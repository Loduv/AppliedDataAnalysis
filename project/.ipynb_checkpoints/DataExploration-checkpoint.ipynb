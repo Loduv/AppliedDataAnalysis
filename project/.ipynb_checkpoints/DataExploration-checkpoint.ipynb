{
 "cells": [
  {
   "cell_type": "code",
   "execution_count": null,
   "metadata": {
    "collapsed": true
   },
   "outputs": [],
   "source": [
    "import numpy as np\n",
    "import seaborn as sns\n",
    "import pandas as pd\n",
    "import matplotlib.pyplot as plt\n",
    "import itertools\n",
    "%matplotlib inline"
   ]
  },
  {
   "cell_type": "markdown",
   "metadata": {},
   "source": [
    "Peace agreement analysis :\n",
    "- agreement features\n",
    "- agreement's success features\n",
    "\n",
    "** PAID** Peace Agreement ID\n",
    "\n",
    "**Region**\n",
    "The regional variable specifies the regional location of the conflict:\n",
    "1. Europe: Geographic definition, including the states in the Caucasus. (COW numbers 200–395) \n",
    "2. Middle East: Egypt, Iran, Iraq, Israel, Jordan, Kuwait, Lebanon, Syria, Turkey, and the states of the Arabian Peninsula (COW numbers 630–698)\n",
    "3. Asia: Geographic definition, including Oceania, Australia, and New Zealand, and excluding states in the Middle East. (COW numbers 700–990)\n",
    "4. Africa: Geographic definition, excluding states in the Middle East (eg. Egypt). (COW numbers 400– 625)\n",
    "5. Americas: Geographic definition, including states in the Caribbean. (COW numbers 2–165)\n",
    "\n",
    "**GWNO** Gleditsch & Ward System Membership Table\n",
    "\n",
    "**CID** - Conflict ID"
   ]
  },
  {
   "cell_type": "code",
   "execution_count": null,
   "metadata": {
    "collapsed": true
   },
   "outputs": [],
   "source": [
    "pa = pd.read_excel('data/ucdp-peace-agreements.xls')\n"
   ]
  },
  {
   "cell_type": "code",
   "execution_count": null,
   "metadata": {},
   "outputs": [],
   "source": [
    "pa.iloc[:10, :11]"
   ]
  },
  {
   "cell_type": "code",
   "execution_count": null,
   "metadata": {},
   "outputs": [],
   "source": [
    "# ended - Agreement ended:\n",
    "pa.iloc[:10, 9:20]"
   ]
  },
  {
   "cell_type": "markdown",
   "metadata": {},
   "source": [
    "## Distribution of the agreements by region"
   ]
  },
  {
   "cell_type": "code",
   "execution_count": null,
   "metadata": {},
   "outputs": [],
   "source": [
    "sns.countplot(x='Region', data=pa)\n",
    "plt.title('Agreement counts per region')\n",
    "plt.xlabel('Region');\n",
    "plt.xticks(range(5), ['europe', 'middle east', 'Asia', 'Africa', 'Americas']);"
   ]
  },
  {
   "cell_type": "markdown",
   "metadata": {},
   "source": [
    "This plot shows the number of peace agreements per region. We can see that most agreements concern Africa.\n",
    "\n",
    "## Distribution of agreements by year"
   ]
  },
  {
   "cell_type": "code",
   "execution_count": null,
   "metadata": {},
   "outputs": [],
   "source": [
    "plt.figure(figsize=(15,5))\n",
    "sns.countplot(x='Year', data=pa)"
   ]
  },
  {
   "cell_type": "markdown",
   "metadata": {},
   "source": [
    "## Analysis of the Conflict ID variable"
   ]
  },
  {
   "cell_type": "code",
   "execution_count": null,
   "metadata": {},
   "outputs": [],
   "source": [
    "print('Number of conflicts treated in this dataset : %s' %(len(pa.CID.unique())))"
   ]
  },
  {
   "cell_type": "code",
   "execution_count": null,
   "metadata": {},
   "outputs": [],
   "source": [
    "plt.figure(figsize=(20,10))\n",
    "sns.countplot(x='CID', data=pa, order=pa.CID.value_counts().index)"
   ]
  },
  {
   "cell_type": "markdown",
   "metadata": {},
   "source": [
    "This plot shows that approximtely half of the conflicts were solved with one agreement. We wil split the rest of the exploration into two groups, the ones solved in one agreements and one grouping all the others."
   ]
  },
  {
   "cell_type": "code",
   "execution_count": null,
   "metadata": {
    "collapsed": true
   },
   "outputs": [],
   "source": [
    "pa_one = pa.[pa['CID'] == [10, 101, 103, 119, 124, 126, 154, 180, 186, 189, 192,194, 195, 197, 199, 203, 205, 208, 210, 214, 215\n",
    "                 , 216, 218, 223, 227, 253, 250]]\n",
    "pa_one"
   ]
  },
  {
   "cell_type": "markdown",
   "metadata": {},
   "source": [
    "## Whatcombi : function to be ran for each new number of possible combinations "
   ]
  },
  {
   "cell_type": "code",
   "execution_count": null,
   "metadata": {
    "collapsed": true
   },
   "outputs": [],
   "source": [
    "def whatcombi(pa):\n",
    "    # returns the corresponding combination number of the dataset\n",
    "    # set : n and rerun box in fct of the number of binary features to be analyzed\n",
    "    n = 4\n",
    "    lst = [list(i) for i in itertools.product([0, 1], repeat=n)]\n",
    "    for i in range(len(lst)):\n",
    "        a = pa == lst[i]\n",
    "        # if all values in a are true, it is the good combination\n",
    "        if all(x for x in a.values):\n",
    "            return(i)"
   ]
  },
  {
   "cell_type": "markdown",
   "metadata": {
    "collapsed": true
   },
   "source": [
    "## Analysis of the agreements termination consistency in the variables :\n",
    "\n",
    "- **ended** \n",
    "    - 0) if the agreements still holds\n",
    "    - 1) if the agreement terminated\n",
    "    \n",
    "- **DyVi05** \n",
    "    - 1) the dyad violence restarted or continued\n",
    "    - 0) the violence ended in this dyad\n",
    "    - -99) Not applicable, agreement signed previous year"
   ]
  },
  {
   "cell_type": "code",
   "execution_count": null,
   "metadata": {},
   "outputs": [],
   "source": [
    "pa_result = pa.loc[:, ['ended', 'DyVi05']]\n",
    "pa_result.head()"
   ]
  },
  {
   "cell_type": "code",
   "execution_count": null,
   "metadata": {},
   "outputs": [],
   "source": [
    "plt.figure(figsize=(15,5))\n",
    "plt.subplot(121)\n",
    "sns.countplot(x='DyVi05', data=pa)\n",
    "plt.subplot(122)\n",
    "sns.countplot(x='ended', data=pa)"
   ]
  },
  {
   "cell_type": "markdown",
   "metadata": {},
   "source": [
    "Thoses plots show that approximately 140 agreements ended there corresponding conflict. This information should be crossed with the number of conflicts treated in this dataset as there are only 60 unique conflicts."
   ]
  },
  {
   "cell_type": "code",
   "execution_count": null,
   "metadata": {},
   "outputs": [],
   "source": [
    "pa_result['combination'] = pa_result.apply(whatcombi, axis=1)"
   ]
  },
  {
   "cell_type": "code",
   "execution_count": null,
   "metadata": {},
   "outputs": [],
   "source": [
    "sns.countplot(x='combination', data=pa_result)"
   ]
  },
  {
   "cell_type": "markdown",
   "metadata": {},
   "source": [
    "Approximately 160 out of 216 (74%) agreements have the same values for the *ended* and *DyVi05* variables. Hence we can say that those variables are consistent."
   ]
  },
  {
   "cell_type": "markdown",
   "metadata": {},
   "source": [
    "## Behaviour variables analysis"
   ]
  },
  {
   "cell_type": "code",
   "execution_count": null,
   "metadata": {},
   "outputs": [],
   "source": [
    "pa_behavior = pa.iloc[:, 20:25]\n",
    "# how to analyze a set of binary features ?\n",
    "pa_behavior.head()\n",
    "#sns.pairplot(pa_behavior)"
   ]
  },
  {
   "cell_type": "code",
   "execution_count": null,
   "metadata": {
    "collapsed": true
   },
   "outputs": [],
   "source": [
    "# run only once\n",
    "pa_behavior['combination'] = pa_behavior.apply(whatcombi, axis=1)"
   ]
  },
  {
   "cell_type": "code",
   "execution_count": null,
   "metadata": {},
   "outputs": [],
   "source": [
    "sns.countplot(x='combination', data=pa_behavior)"
   ]
  },
  {
   "cell_type": "code",
   "execution_count": null,
   "metadata": {},
   "outputs": [],
   "source": [
    "lst = [list(i) for i in itertools.product([0, 1], repeat=5)]\n",
    "print(lst[11])"
   ]
  },
  {
   "cell_type": "markdown",
   "metadata": {},
   "source": [
    "1. Most agreements do not treat behavioral instructions\n",
    "2. The second most recurrent combination concerns agreements that provided a ceasefire\n",
    "3. third most recurrent :  ceasefire, withdrawal of foreign forces\n",
    "4. fourth : ceasefire, integration in national army, disarmement of warring parties"
   ]
  },
  {
   "cell_type": "code",
   "execution_count": null,
   "metadata": {},
   "outputs": [],
   "source": [
    "pa_behavior['ended'] = pa['ended']\n",
    "sns.countplot(x='combination', data= pa_behavior, hue='ended')"
   ]
  },
  {
   "cell_type": "markdown",
   "metadata": {},
   "source": [
    "There are no much difference in agreements that terminate or not. However Two kinds of agreements were never terminated. The ones which provided for the creation of a new national army or the integration of rebels into the army and the withdrawal of foreign forces."
   ]
  },
  {
   "cell_type": "markdown",
   "metadata": {},
   "source": [
    "## Incompatibility variables analysis\n",
    "### Government incompatibilities"
   ]
  },
  {
   "cell_type": "code",
   "execution_count": null,
   "metadata": {},
   "outputs": [],
   "source": [
    "pa_incompatibility_gov = pa.iloc[:, 25:33]\n",
    "# study ended results in fct of all combinations of the binary features\n",
    "pa_incompatibility_gov.head()"
   ]
  },
  {
   "cell_type": "code",
   "execution_count": null,
   "metadata": {},
   "outputs": [],
   "source": [
    "pa_incompatibility_gov['combination'] = pa_incompatibility_gov.apply(whatcombi, axis=1)"
   ]
  },
  {
   "cell_type": "code",
   "execution_count": null,
   "metadata": {},
   "outputs": [],
   "source": [
    "plt.figure(figsize=(10,5))\n",
    "sns.countplot(x='combination', data=pa_incompatibility_gov)\n",
    "plt.yscale('log')"
   ]
  },
  {
   "cell_type": "code",
   "execution_count": null,
   "metadata": {},
   "outputs": [],
   "source": [
    "lst = [list(i) for i in itertools.product([0, 1], repeat=8)]\n",
    "print(lst[25])"
   ]
  },
  {
   "cell_type": "markdown",
   "metadata": {},
   "source": [
    "While most agreements do not deal with governmental incompatibilities, the ones that do mostly provide for elections and electoral reforms for rebel integration into the interim government.\n",
    "\n",
    "The *Pol_prov* feature could be used to generalize the inclusion of political provisions in the agreement"
   ]
  },
  {
   "cell_type": "markdown",
   "metadata": {},
   "source": [
    "## Justice variables analysis"
   ]
  },
  {
   "cell_type": "code",
   "execution_count": null,
   "metadata": {
    "collapsed": true
   },
   "outputs": [],
   "source": [
    "pa_justice = pa.iloc[:, 43:48]\n",
    "# study ended results in fct of all combinations of the binary features\n",
    "pa_justice.head()"
   ]
  },
  {
   "cell_type": "code",
   "execution_count": null,
   "metadata": {
    "collapsed": true
   },
   "outputs": [],
   "source": [
    "# run only once\n",
    "pa_justice['combination'] = pa_justice.apply(whatcombi, axis=1)"
   ]
  },
  {
   "cell_type": "code",
   "execution_count": null,
   "metadata": {
    "collapsed": true
   },
   "outputs": [],
   "source": [
    "sns.countplot(x='combination', data=pa_justice)"
   ]
  },
  {
   "cell_type": "code",
   "execution_count": null,
   "metadata": {
    "collapsed": true
   },
   "outputs": [],
   "source": [
    "lst = [list(i) for i in itertools.product([0, 1], repeat=5)]\n",
    "print(lst[9])"
   ]
  },
  {
   "cell_type": "markdown",
   "metadata": {},
   "source": [
    "- The most recurring combination is the one where no justice issues is treated in the agreement.\n",
    "- The second most recurring is the one where the agreement provided a release of prisoners\n",
    "\n",
    "The last features is set to one if any of the justice provisions was applied in the agreement. This variable could be of good use to reduce the number of features and keep an insight of the rather or not 'Justice' issues treated in the agreement."
   ]
  },
  {
   "cell_type": "markdown",
   "metadata": {},
   "source": [
    "## Implementation variables analysis"
   ]
  },
  {
   "cell_type": "code",
   "execution_count": null,
   "metadata": {},
   "outputs": [],
   "source": [
    "pa_implementation = pa.iloc[:, 48:53]\n",
    "pa_implementation.drop(columns='Reaffirm ID', inplace=True)\n",
    "# study ended results in fct of all combinations of the binary features\n",
    "pa_implementation.head()"
   ]
  },
  {
   "cell_type": "code",
   "execution_count": null,
   "metadata": {
    "collapsed": true
   },
   "outputs": [],
   "source": [
    "# run only once\n",
    "pa_implementation['combination'] = pa_implementation.apply(whatcombi, axis=1)"
   ]
  },
  {
   "cell_type": "code",
   "execution_count": null,
   "metadata": {},
   "outputs": [],
   "source": [
    "sns.countplot(x='combination', data=pa_implementation)"
   ]
  },
  {
   "cell_type": "markdown",
   "metadata": {},
   "source": [
    "- The most recurring implementation is the one where the agreement did not reaffirm earlier agreements, did not outline a negotiating agenda including negotiations on the incompatibility, did not provide for the deployment of a peace-keeping operation and did not provide for the establishment of a commission or committee to oversee implementation of the agreement.\n",
    "\n",
    "- Second most recurring ... did not everything but did provide for the establishment of a commission or committee to oversee implementation of the agreement.\n",
    "\n",
    "- Third most recurring, nothing but did outline a negotiating agenda including negotiations on the incompatibility\n",
    "\n",
    "- Fourth : reaffirm earlier agreements and provided the establishment of a commission or committee to oversee implementation of the agreement."
   ]
  },
  {
   "cell_type": "markdown",
   "metadata": {},
   "source": [
    "## Temination variables analysis\n",
    "- **DyVi05** - Violence with the same parties restarted within 5 years\n",
    "\n",
    "    - 1) Yes, the dyad violence restarted or continued\n",
    "    - 0) No, the violence ended in this dyad\n",
    "    - -99) Not applicable, agreement signed previous year\n",
    "\n",
    "\n",
    "- **CoVi01** - Terminated the whole conflict the following year, signed an active year\n",
    "    - 2) Part of a peace process which ended the violence.\n",
    "    - 1) Yes, the conflict was terminated\n",
    "    - 0) No, the conflict continued\n",
    "    - -99) Not applicable, for example, the peace agreement was not signed in a conflict active year.\n",
    "\n",
    "\n",
    "- **noconf** - Signed in a conflict inactive year.\n",
    "\n",
    "The peace agreement was signed in an inactive conflict year i.e. in a year with less than 25 battle- related deaths recorded by the UCDP.\n",
    "    - 1) Yes \n",
    "    - 0) No\n",
    "\n",
    "- **termdur** - Number of years since last activity.\n",
    "\n",
    "The number of inactive years between end of conflict and signature of the peace agreement.\n",
    "\n",
    "\n",
    "- **Noconf11** - Still terminated as of 2011\n",
    "    No active conflict years recorded from agreement until 2011 1) Yes, no active conflict years from agreement til 2011, \n",
    "    - 0) No, conflict restarted before 2011\n",
    "    - -99) Not applicable, signed in 2011\n",
    "    \n",
    "The *termdur* will be used to relate agreement signed on active years to ones signed on inactive year. This should allow us to give more strentgh to an agreement that was signed fewer years after the end of the conflict than one signed a long time after. \n",
    "\n",
    "The *DyVi05* feature will be used as the second success evaluation variable. The *CoVi01* feature will be used to evaluate the time efficiency of the agreement."
   ]
  },
  {
   "cell_type": "code",
   "execution_count": null,
   "metadata": {
    "collapsed": true
   },
   "outputs": [],
   "source": [
    "pa_termination = pa.iloc[:, 53:58]\n",
    "# study ended results in fct of all combinations of the binary features\n",
    "pa_termination.head()"
   ]
  },
  {
   "cell_type": "code",
   "execution_count": null,
   "metadata": {
    "collapsed": true
   },
   "outputs": [],
   "source": [
    "pa_one = pa[pa['CID'] == [x for x in pa.CID.value_counts().index]]"
   ]
  },
  {
   "cell_type": "code",
   "execution_count": null,
   "metadata": {
    "collapsed": true
   },
   "outputs": [],
   "source": [
    "import copy\n",
    "idx = (pa.CID.value_counts()==1)\n",
    "pa_one = copy.deepcopy(pa)\n",
    "for i in range(len(idx)):\n",
    "    if idx.values[i] == False:\n",
    "        pa_one.drop(index=[pa_one['CID'] == idx.index[i]])"
   ]
  },
  {
   "cell_type": "code",
   "execution_count": null,
   "metadata": {},
   "outputs": [],
   "source": [
    "cc = pa.groupby(['CID', 'ended']).count()\n",
    "plt.figure(figsize=(20,10))\n",
    "sns.countplot(x='CID', data= pa, hue='ended')"
   ]
  },
  {
   "cell_type": "code",
   "execution_count": null,
   "metadata": {
    "collapsed": true
   },
   "outputs": [],
   "source": []
  }
 ],
 "metadata": {
  "kernelspec": {
   "display_name": "Python 3",
   "language": "python",
   "name": "python3"
  },
  "language_info": {
   "codemirror_mode": {
    "name": "ipython",
    "version": 3
   },
   "file_extension": ".py",
   "mimetype": "text/x-python",
   "name": "python",
   "nbconvert_exporter": "python",
   "pygments_lexer": "ipython3",
   "version": "3.6.1"
  }
 },
 "nbformat": 4,
 "nbformat_minor": 2
}
