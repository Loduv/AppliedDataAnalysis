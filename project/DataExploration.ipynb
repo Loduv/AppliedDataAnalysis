{
 "cells": [
  {
   "cell_type": "code",
   "execution_count": null,
   "metadata": {
    "collapsed": true,
    "nbpresent": {
     "id": "ad3b1820-9be6-4780-9052-09ee6da24518"
    }
   },
   "outputs": [],
   "source": [
    "import numpy as np\n",
    "import seaborn as sns\n",
    "import pandas as pd\n",
    "import matplotlib.pyplot as plt\n",
    "import itertools\n",
    "import csv\n",
    "import copy\n",
    "import sklearn.linear_model\n",
    "from sklearn import preprocessing\n",
    "%matplotlib inline\n",
    "%config InlineBackend.figure_format = 'retina'\n",
    "COLOR_TREAT = \"#2ecc71\"\n",
    "COLOR_NO_TREAT = \"#e74c3c\""
   ]
  },
  {
   "cell_type": "markdown",
   "metadata": {
    "nbpresent": {
     "id": "478042d3-2861-44e0-af17-88a47fb07b2e"
    }
   },
   "source": [
    "## Naïve analysis of the peace agreement dataset :\n",
    "- agreement features\n",
    "- agreement's success features\n",
    "\n",
    "** PAID** Peace Agreement ID\n",
    "\n",
    "**Region**\n",
    "The regional variable specifies the regional location of the conflict:\n",
    "1. Europe: Geographic definition, including the states in the Caucasus. (COW numbers 200–395) \n",
    "2. Middle East: Egypt, Iran, Iraq, Israel, Jordan, Kuwait, Lebanon, Syria, Turkey, and the states of the Arabian Peninsula (COW numbers 630–698)\n",
    "3. Asia: Geographic definition, including Oceania, Australia, and New Zealand, and excluding states in the Middle East. (COW numbers 700–990)\n",
    "4. Africa: Geographic definition, excluding states in the Middle East (eg. Egypt). (COW numbers 400– 625)\n",
    "5. Americas: Geographic definition, including states in the Caribbean. (COW numbers 2–165)\n",
    "\n",
    "**GWNO** Gleditsch & Ward System Membership Table\n",
    "\n",
    "**CID** - Conflict ID"
   ]
  },
  {
   "cell_type": "code",
   "execution_count": null,
   "metadata": {
    "collapsed": true,
    "nbpresent": {
     "id": "4f97cb14-df7a-40e6-bcd0-36b12d2572e5"
    }
   },
   "outputs": [],
   "source": [
    "pa = pd.read_excel('data/ucdp-peace-agreements.xls')"
   ]
  },
  {
   "cell_type": "code",
   "execution_count": null,
   "metadata": {
    "nbpresent": {
     "id": "68901f38-3a5c-4975-a302-02839c6b9596"
    }
   },
   "outputs": [],
   "source": [
    "pa.iloc[:10, :11]"
   ]
  },
  {
   "cell_type": "code",
   "execution_count": null,
   "metadata": {
    "nbpresent": {
     "id": "fd348271-8538-4546-a02c-f08a9211a8a4"
    }
   },
   "outputs": [],
   "source": [
    "# ended - Agreement ended:\n",
    "pa.iloc[:10, 9:20]"
   ]
  },
  {
   "cell_type": "code",
   "execution_count": null,
   "metadata": {},
   "outputs": [],
   "source": [
    "regiondic = {\n",
    "    1:'Europe',\n",
    "    2:'Middle East',\n",
    "    3:'Asia',\n",
    "    4:'Africa',\n",
    "    5:'Americas'\n",
    "}"
   ]
  },
  {
   "cell_type": "markdown",
   "metadata": {
    "nbpresent": {
     "id": "9ea89e59-0b2b-4ec4-857a-191751d91f20"
    }
   },
   "source": [
    "## Distribution of the agreements by region"
   ]
  },
  {
   "cell_type": "code",
   "execution_count": null,
   "metadata": {
    "nbpresent": {
     "id": "7cbd57cb-a637-4b4a-be7c-1a4cb1a7d251"
    }
   },
   "outputs": [],
   "source": [
    "sns.countplot(x='Region', data=pa)\n",
    "plt.title('Agreement counts per region')\n",
    "plt.xlabel('Region');\n",
    "plt.xticks(range(5), ['europe', 'middle east', 'Asia', 'Africa', 'Americas']);"
   ]
  },
  {
   "cell_type": "markdown",
   "metadata": {
    "nbpresent": {
     "id": "19d3e0ca-1479-40cf-9c9c-d52cae65f81e"
    }
   },
   "source": [
    "This plot shows the number of peace agreements per region. We can see that most agreements concern Africa.\n",
    "\n",
    "## Distribution of agreements by year"
   ]
  },
  {
   "cell_type": "code",
   "execution_count": null,
   "metadata": {
    "nbpresent": {
     "id": "7312b54d-08b8-418d-8ec8-6790b185cecf"
    }
   },
   "outputs": [],
   "source": [
    "plt.figure(figsize=(15,5))\n",
    "sns.countplot(x='Year', data=pa)"
   ]
  },
  {
   "cell_type": "markdown",
   "metadata": {},
   "source": [
    "## UN involvment in the PAs"
   ]
  },
  {
   "cell_type": "code",
   "execution_count": null,
   "metadata": {},
   "outputs": [],
   "source": [
    "pa_UN = pa[pa['pa_3rd'].astype(str).str.contains('UN')]\n",
    "pa_UN"
   ]
  },
  {
   "cell_type": "code",
   "execution_count": null,
   "metadata": {},
   "outputs": [],
   "source": [
    "pa[\"UN\"] = [1 if ele in pa_UN['CID'].unique() else 0 for ele in pa.CID]\n",
    "pa['Region'].replace(regiondic , inplace = True)\n",
    "cols = ['bwdID', 'pa_comment', 'c_sign', 'c_3rd', 'c_duration', 'Reaffirm ID', 'Comment', 'txt', \n",
    "        'Link to fulltext agreement', 'ProcID', 'Frame', 'All', 'Counter' , 'Duration']\n",
    "pa.drop(columns=cols, inplace=True)\n",
    "\n",
    "\n",
    "pa.head(10)"
   ]
  },
  {
   "cell_type": "code",
   "execution_count": null,
   "metadata": {},
   "outputs": [],
   "source": [
    "to_be_categorical = ['termdur' , 'noconf11' , 'CoVi01' ,'DyVi05' ]\n",
    "for categ in to_be_categorical:\n",
    "    pa[categ] = pd.Categorical(pa[categ] , pa[categ].unique())"
   ]
  },
  {
   "cell_type": "code",
   "execution_count": null,
   "metadata": {},
   "outputs": [],
   "source": [
    "plt.figure(figsize=(20,10))\n",
    "sns.countplot(x='CID', data= pa_UN, hue='ended', order=pa_UN.CID.value_counts().index)"
   ]
  },
  {
   "cell_type": "markdown",
   "metadata": {
    "nbpresent": {
     "id": "01e7dc8b-d1e0-4b22-946c-cb0d294a2ff7"
    }
   },
   "source": [
    "## Analysis of the Conflict ID variable"
   ]
  },
  {
   "cell_type": "code",
   "execution_count": null,
   "metadata": {
    "collapsed": true,
    "nbpresent": {
     "id": "4ac065aa-aadb-4fbe-9f68-2b736acd41b5"
    }
   },
   "outputs": [],
   "source": [
    "print('Number of conflicts treated in this dataset : %s' %(len(pa.CID.unique())))"
   ]
  },
  {
   "cell_type": "code",
   "execution_count": null,
   "metadata": {
    "collapsed": true,
    "nbpresent": {
     "id": "3fcde142-5229-4f47-9cad-92e67b80c775"
    }
   },
   "outputs": [],
   "source": [
    "plt.figure(figsize=(20,10))\n",
    "sns.countplot(x='CID', data=pa, order=pa.CID.value_counts().index)"
   ]
  },
  {
   "cell_type": "markdown",
   "metadata": {
    "nbpresent": {
     "id": "e9592e72-a0fe-43b1-ad95-d93d4fab4acc"
    }
   },
   "source": [
    "This plot shows that approximtely half of the conflicts were solved with one agreement. We wil split the rest of the exploration into two groups, the ones solved in one agreements and one grouping all the others."
   ]
  },
  {
   "cell_type": "code",
   "execution_count": null,
   "metadata": {
    "collapsed": true
   },
   "outputs": [],
   "source": [
    "cc = pa.groupby(['CID', 'ended']).count()\n",
    "plt.figure(figsize=(25,10))\n",
    "sns.countplot(x='CID', data= pa, hue='DyVi05', order=pa.CID.value_counts().index)"
   ]
  },
  {
   "cell_type": "markdown",
   "metadata": {},
   "source": [
    "Most conflicts ended with agreements that are still valid today. \n",
    "All agreements of the conflicts (179, 128, 177, 101, 216 205, 185) were terminated. 1 represents a PA that was terminated, 0 its success.\n",
    "\n",
    "\n",
    "## Analysis of the conflicts that could not be ended by the peace agreements"
   ]
  },
  {
   "cell_type": "code",
   "execution_count": null,
   "metadata": {
    "collapsed": true
   },
   "outputs": [],
   "source": [
    "pa_128 = pa.loc[pa['CID'] == 128]\n",
    "#pa_128.to_csv('Unsolved_CID128.csv')"
   ]
  },
  {
   "cell_type": "markdown",
   "metadata": {
    "nbpresent": {
     "id": "2271560b-a476-4a18-8f6c-1e5feecde342"
    }
   },
   "source": [
    "**Conflict 128 :**\n",
    "\n",
    "Conflict between Iran and Iraq. Each of the 12 agreements were signed in 1975. Despite the first agreements, that was signed by The Shah of Iran and Saddam Hussein, all of them were signed by the same two representatives of Iran and Iraq, respectively by ABBAS-ALI KHALATBARY, Minister for Foreign Affairs of Iran and SAADOUN HAMADI, Minister for Foreign Affairs of Iraq. \n",
    "These agreements that were active in 1975, were than terminated between 1975 and 1980 until they were reactivated. Although the agreements were reactivated in 1980. Conflicts between Iran and Iraq did not stop in 1980, hence we can consider those agrrements as failures."
   ]
  },
  {
   "cell_type": "code",
   "execution_count": null,
   "metadata": {
    "collapsed": true
   },
   "outputs": [],
   "source": [
    "pa_179 = pa.loc[pa['CID'] == 179]\n",
    "#pa_179.to_csv('Unsolved_CID179.csv')"
   ]
  },
  {
   "cell_type": "markdown",
   "metadata": {},
   "source": [
    "**Conflict 179 :**\n",
    "\n",
    "This conflict concerned the Government of the Republic of Rwanda and the Rwandese Patriotic Front. The six agreements were signed between 1992 and 1993. The incompatibility is governmental.\n",
    "The five first agreements were signed to provide partial peace and the last one in august 1993 was supposed to prvide full peace to the region. None of the agreements provided for the holding of national talks to solve incompatibility and for the integration of rebels into civil service.\n",
    "In April 1994, a genocide broke out and the peace agreements were never fully implemented.\n",
    "\n",
    "**Conflict 101 : **\n",
    "\n",
    "This conflict originated from a governmental incompatibility between South Africa and Namibia. The agreement was signed in 1978 and lasted two months. The agreement contained provisions for political incompatibilities leading to independence for Namibia, justice provisions with the return of refugees and release of political prisoners and behavior regulations such as (ceasefire, withdrawal of foreign forces and demobilisation of local armies).\n",
    " \n",
    "**Conflict 216 : **\n",
    "\n",
    "Government of Guinea Bissau - Military Junta for the Consolidation of Democracy, Peace and Justice. Incompatibility 2, The peace agreement lasted for 6 months.\n",
    "\n",
    "** Conflict 205 : **\n",
    "\n",
    "The agreement covered indigenous rights and culture and strengthened the position of the indigenous people in Mexico. incompatibility 2. The accord was never implemented and thus further peace talks that were planned in September the same year were suspended by EZLN. No exact date for the ending of the peace accord has been found.\n",
    "\n",
    "All of the conflicts that were treated by only one agreement and had terminated originated from governmental imcompabilities. "
   ]
  },
  {
   "cell_type": "code",
   "execution_count": null,
   "metadata": {
    "collapsed": true
   },
   "outputs": [],
   "source": [
    "pa.loc[pa['CID'] == 186]\n",
    "#pa.iloc[77,:].to_csv('Unsolved_CID101.csv')\n",
    "#pa_179.to_csv('Unsolved_CID179.csv')"
   ]
  },
  {
   "cell_type": "markdown",
   "metadata": {},
   "source": [
    "## Analyze conflicts solved in one agreements that are still valid as of 2011\n"
   ]
  },
  {
   "cell_type": "code",
   "execution_count": null,
   "metadata": {
    "collapsed": true
   },
   "outputs": [],
   "source": [
    "idx = pa['CID'].value_counts()\n",
    "idx_1 = idx[idx.values == 1]\n",
    "idx_1.index"
   ]
  },
  {
   "cell_type": "code",
   "execution_count": null,
   "metadata": {
    "collapsed": true
   },
   "outputs": [],
   "source": [
    "indx_1_ended = []\n",
    "for ind in idx_1.index:\n",
    "    #print(ind)\n",
    "    a = pa.ended[pa['CID'] == ind]\n",
    "    if a.iloc[0] == 0: # ended is the column 17 \n",
    "        indx_1_ended.append(a.index)\n",
    "    \n",
    "pa_one = pa.iloc[np.array(indx_1_ended)[:,0], :]\n",
    "pa_one.head()\n",
    "#pa_one[pa_one.ended == 0]\n",
    "#pa_one['ended'])"
   ]
  },
  {
   "cell_type": "code",
   "execution_count": null,
   "metadata": {
    "collapsed": true
   },
   "outputs": [],
   "source": [
    "pa_1behavior = pa_one.iloc[:, 20:25]\n",
    "pa_1behavior['combination'] = pa_1behavior.apply(whatcombi, axis=1)\n",
    "sns.countplot(x='combination', data=pa_1behavior)"
   ]
  },
  {
   "cell_type": "code",
   "execution_count": null,
   "metadata": {
    "collapsed": true
   },
   "outputs": [],
   "source": [
    "lst = [list(i) for i in itertools.product([0, 1], repeat=5)]\n",
    "print(lst[29])"
   ]
  },
  {
   "cell_type": "markdown",
   "metadata": {},
   "source": [
    "8 successfull agreements established peace in providing for a ceasefire\n",
    "\n",
    "3 provided for the withdrawal of foreign forces and 3 others provided for a ceasefire, the integration of rebels into the army and the disarmement of the warring parties.\n"
   ]
  },
  {
   "cell_type": "code",
   "execution_count": null,
   "metadata": {
    "collapsed": true
   },
   "outputs": [],
   "source": [
    "#pa_1incompatibility = pa.iloc[:, 25:43]\n",
    "#pa_1incompatibility['combination'] = pa_1incompatibility.apply(whatcombi, axis=1)\n",
    "#pa_1incompatibility.to_csv('pa_1PA_success.csv')\n",
    "pa_1incompatibility = pd.read_csv('pa_1PA_success.csv')\n",
    "#pa_1incompatibility['inc'] = pa.iloc[np.array(indx_1_ended)[:,0], 8]"
   ]
  },
  {
   "cell_type": "code",
   "execution_count": null,
   "metadata": {
    "collapsed": true
   },
   "outputs": [],
   "source": [
    "a = copy.deepcopy(pa_1incompatibility.groupby('combination').count().pp)\n",
    "a.sort_values(ascending=False, inplace=True)"
   ]
  },
  {
   "cell_type": "code",
   "execution_count": null,
   "metadata": {
    "collapsed": true
   },
   "outputs": [],
   "source": [
    "plt.figure(figsize=(20,10))\n",
    "a[:20].plot('bar', rot=45)\n",
    "#sns.countplot(x='combination', data=pa_1incompatibility, order=pa_1incompatibility.combination.value_counts().index)"
   ]
  },
  {
   "cell_type": "markdown",
   "metadata": {},
   "source": [
    "TODO :"
   ]
  },
  {
   "cell_type": "markdown",
   "metadata": {},
   "source": [
    "## Whatcombi : function to be ran for each new number of possible combinations "
   ]
  },
  {
   "cell_type": "code",
   "execution_count": null,
   "metadata": {
    "collapsed": true,
    "nbpresent": {
     "id": "546f25d4-9b24-400c-b33e-a5eed26979d5"
    }
   },
   "outputs": [],
   "source": [
    "def whatcombi(pa):\n",
    "    # returns the corresponding combination number of the dataset\n",
    "    # set : n and rerun box in fct of the number of binary features to be analyzed\n",
    "    n = 5\n",
    "    lst = [list(i) for i in itertools.product([0, 1], repeat=n)]\n",
    "    for i in range(len(lst)):\n",
    "        a = pa == lst[i]\n",
    "        # if all values in a are true, it is the good combination\n",
    "        if all(x for x in a.values):\n",
    "            return(i)"
   ]
  },
  {
   "cell_type": "markdown",
   "metadata": {
    "collapsed": true,
    "nbpresent": {
     "id": "eb06f137-5768-4e99-b6d2-0704de6e9d5a"
    }
   },
   "source": [
    "## Analysis of the agreements termination consistency in the variables :\n",
    "\n",
    "- **ended** \n",
    "    - 0) if the agreements still holds\n",
    "    - 1) if the agreement terminated\n",
    "    \n",
    "- **DyVi05** \n",
    "    - 1) the dyad violence restarted or continued\n",
    "    - 0) the violence ended in this dyad\n",
    "    - -99) Not applicable, agreement signed previous year"
   ]
  },
  {
   "cell_type": "code",
   "execution_count": null,
   "metadata": {
    "collapsed": true,
    "nbpresent": {
     "id": "34ca824b-390e-45bd-b56c-da29549e86fd"
    }
   },
   "outputs": [],
   "source": [
    "pa_result = pa.loc[:, ['ended', 'DyVi05']]\n",
    "pa_result.head()"
   ]
  },
  {
   "cell_type": "code",
   "execution_count": null,
   "metadata": {
    "collapsed": true,
    "nbpresent": {
     "id": "a609534e-d9d2-4788-9bfb-eeb7fd489ea7"
    }
   },
   "outputs": [],
   "source": [
    "plt.figure(figsize=(15,5))\n",
    "plt.subplot(121)\n",
    "sns.countplot(x='DyVi05', data=pa)\n",
    "plt.subplot(122)\n",
    "sns.countplot(x='ended', data=pa)"
   ]
  },
  {
   "cell_type": "markdown",
   "metadata": {
    "nbpresent": {
     "id": "0b9bf39e-38db-44ee-91f5-d24fd6f1161c"
    }
   },
   "source": [
    "Thoses plots show that approximately 140 agreements ended there corresponding conflict. This information should be crossed with the number of conflicts treated in this dataset as there are only 60 unique conflicts."
   ]
  },
  {
   "cell_type": "code",
   "execution_count": null,
   "metadata": {
    "collapsed": true,
    "nbpresent": {
     "id": "47aebee3-7795-43a4-b1ca-ce349b7cd012"
    }
   },
   "outputs": [],
   "source": [
    "pa_result['combination'] = pa_result.apply(whatcombi, axis=1)"
   ]
  },
  {
   "cell_type": "code",
   "execution_count": null,
   "metadata": {
    "collapsed": true,
    "nbpresent": {
     "id": "81722778-b328-4191-833a-9ba37901f5e4"
    }
   },
   "outputs": [],
   "source": [
    "sns.countplot(x='combination', data=pa_result)"
   ]
  },
  {
   "cell_type": "markdown",
   "metadata": {
    "nbpresent": {
     "id": "b3e36695-1655-4f3b-8cb1-8c8bafe717a7"
    }
   },
   "source": [
    "Approximately 160 out of 216 (74%) agreements have the same values for the *ended* and *DyVi05* variables. Hence we can say that those variables are consistent."
   ]
  },
  {
   "cell_type": "markdown",
   "metadata": {
    "nbpresent": {
     "id": "3589384a-d843-4479-a80c-1a3d25a606e2"
    }
   },
   "source": [
    "## Behaviour variables analysis"
   ]
  },
  {
   "cell_type": "code",
   "execution_count": null,
   "metadata": {
    "collapsed": true,
    "nbpresent": {
     "id": "2f1f583d-dd26-4b41-9cc4-c95b1a053a38"
    }
   },
   "outputs": [],
   "source": [
    "pa_behavior = pa.iloc[:, 20:25]\n",
    "# how to analyze a set of binary features ?\n",
    "pa_behavior.head()\n",
    "#sns.pairplot(pa_behavior)"
   ]
  },
  {
   "cell_type": "code",
   "execution_count": null,
   "metadata": {
    "collapsed": true,
    "nbpresent": {
     "id": "6b24d465-d578-4246-b1dd-297c1ce7e3e2"
    }
   },
   "outputs": [],
   "source": [
    "# run only once\n",
    "pa_behavior['combination'] = pa_behavior.apply(whatcombi, axis=1)"
   ]
  },
  {
   "cell_type": "code",
   "execution_count": null,
   "metadata": {
    "collapsed": true,
    "nbpresent": {
     "id": "354fef1a-18ec-4abf-af42-42b542490ba5"
    }
   },
   "outputs": [],
   "source": [
    "sns.countplot(x='combination', data=pa_behavior)"
   ]
  },
  {
   "cell_type": "code",
   "execution_count": null,
   "metadata": {
    "collapsed": true,
    "nbpresent": {
     "id": "1c7a2dc0-8713-41e6-8eb6-b2bb3d667343"
    }
   },
   "outputs": [],
   "source": [
    "lst = [list(i) for i in itertools.product([0, 1], repeat=5)]\n",
    "print(lst[11])"
   ]
  },
  {
   "cell_type": "markdown",
   "metadata": {
    "nbpresent": {
     "id": "1f64186e-0ba8-4b5d-8edb-8f6655d4ab45"
    }
   },
   "source": [
    "1. Most agreements do not treat behavioral instructions\n",
    "2. The second most recurrent combination concerns agreements that provided a ceasefire\n",
    "3. third most recurrent :  ceasefire, withdrawal of foreign forces\n",
    "4. fourth : ceasefire, integration in national army, disarmement of warring parties"
   ]
  },
  {
   "cell_type": "code",
   "execution_count": null,
   "metadata": {
    "collapsed": true,
    "nbpresent": {
     "id": "0ef6d2c1-ac9f-4db3-9f07-543ffb334166"
    }
   },
   "outputs": [],
   "source": [
    "pa_behavior['ended'] = pa['ended']\n",
    "sns.countplot(x='combination', data= pa_behavior, hue='ended')"
   ]
  },
  {
   "cell_type": "markdown",
   "metadata": {
    "nbpresent": {
     "id": "8010e71f-79fd-45af-9691-8a87873781fd"
    }
   },
   "source": [
    "There are no much difference in agreements that terminate or not. However Two kinds of agreements were never terminated. The ones which provided for the creation of a new national army or the integration of rebels into the army and the withdrawal of foreign forces."
   ]
  },
  {
   "cell_type": "markdown",
   "metadata": {
    "nbpresent": {
     "id": "7dbf1538-f8d8-40df-9eee-55733f7c0ea7"
    }
   },
   "source": [
    "## Incompatibility variables analysis\n",
    "### Government incompatibilities"
   ]
  },
  {
   "cell_type": "code",
   "execution_count": null,
   "metadata": {
    "collapsed": true,
    "nbpresent": {
     "id": "f5a970fe-a929-4a78-84bf-091cb0777ca1"
    }
   },
   "outputs": [],
   "source": [
    "pa_incompatibility_gov = pa.iloc[:, 25:33]\n",
    "# study ended results in fct of all combinations of the binary features\n",
    "pa_incompatibility_gov.head()"
   ]
  },
  {
   "cell_type": "code",
   "execution_count": null,
   "metadata": {
    "collapsed": true,
    "nbpresent": {
     "id": "153420d9-04d8-4062-a0a9-5a687daa8e52"
    }
   },
   "outputs": [],
   "source": [
    "pa_incompatibility_gov['combination'] = pa_incompatibility_gov.apply(whatcombi, axis=1)"
   ]
  },
  {
   "cell_type": "code",
   "execution_count": null,
   "metadata": {
    "collapsed": true,
    "nbpresent": {
     "id": "7836ff45-2929-48ba-ba2c-d4d808601467"
    }
   },
   "outputs": [],
   "source": [
    "plt.figure(figsize=(10,5))\n",
    "sns.countplot(x='combination', data=pa_incompatibility_gov)\n",
    "plt.yscale('log')"
   ]
  },
  {
   "cell_type": "code",
   "execution_count": null,
   "metadata": {
    "collapsed": true,
    "nbpresent": {
     "id": "ebafc789-0727-44a2-bf38-5c9f6029774d"
    }
   },
   "outputs": [],
   "source": [
    "lst = [list(i) for i in itertools.product([0, 1], repeat=8)]\n",
    "print(lst[25])"
   ]
  },
  {
   "cell_type": "markdown",
   "metadata": {
    "nbpresent": {
     "id": "d5cf6ca2-e50f-4540-8c2e-9a728655f1d2"
    }
   },
   "source": [
    "While most agreements do not deal with governmental incompatibilities, the ones that do mostly provide for elections and electoral reforms for rebel integration into the interim government.\n",
    "\n",
    "The *Pol_prov* feature could be used to generalize the inclusion of political provisions in the agreement"
   ]
  },
  {
   "cell_type": "markdown",
   "metadata": {
    "nbpresent": {
     "id": "ee0d5d12-f4c2-4f46-a02d-9c0ff6b847a2"
    }
   },
   "source": [
    "## Justice variables analysis"
   ]
  },
  {
   "cell_type": "code",
   "execution_count": null,
   "metadata": {
    "collapsed": true,
    "nbpresent": {
     "id": "b3abe992-672f-43a3-9d31-0d85ff4fb8d6"
    }
   },
   "outputs": [],
   "source": [
    "pa_justice = pa.iloc[:, 43:48]\n",
    "# study ended results in fct of all combinations of the binary features\n",
    "pa_justice.head()"
   ]
  },
  {
   "cell_type": "code",
   "execution_count": null,
   "metadata": {
    "collapsed": true,
    "nbpresent": {
     "id": "29165db6-e23d-40a3-ad63-d7e9d01eb9cd"
    }
   },
   "outputs": [],
   "source": [
    "# run only once\n",
    "pa_justice['combination'] = pa_justice.apply(whatcombi, axis=1)"
   ]
  },
  {
   "cell_type": "code",
   "execution_count": null,
   "metadata": {
    "collapsed": true,
    "nbpresent": {
     "id": "a5a0847f-61b8-4ccc-8fe4-18a78d34c798"
    }
   },
   "outputs": [],
   "source": [
    "sns.countplot(x='combination', data=pa_justice)"
   ]
  },
  {
   "cell_type": "code",
   "execution_count": null,
   "metadata": {
    "collapsed": true,
    "nbpresent": {
     "id": "51762cac-b05c-4d32-bbc0-44f826146c7a"
    }
   },
   "outputs": [],
   "source": [
    "lst = [list(i) for i in itertools.product([0, 1], repeat=5)]\n",
    "print(lst[9])"
   ]
  },
  {
   "cell_type": "markdown",
   "metadata": {
    "nbpresent": {
     "id": "081a0db9-05e7-411f-ac27-70cbc9821c03"
    }
   },
   "source": [
    "- The most recurring combination is the one where no justice issues is treated in the agreement.\n",
    "- The second most recurring is the one where the agreement provided a release of prisoners\n",
    "\n",
    "The last features is set to one if any of the justice provisions was applied in the agreement. This variable could be of good use to reduce the number of features and keep an insight of the rather or not 'Justice' issues treated in the agreement."
   ]
  },
  {
   "cell_type": "markdown",
   "metadata": {
    "nbpresent": {
     "id": "dae3c63c-d1bc-424a-9061-f37e50af92d9"
    }
   },
   "source": [
    "## Implementation variables analysis"
   ]
  },
  {
   "cell_type": "code",
   "execution_count": null,
   "metadata": {
    "collapsed": true,
    "nbpresent": {
     "id": "466e3eb7-1932-472e-a374-33083a5d94a9"
    }
   },
   "outputs": [],
   "source": [
    "pa_implementation = pa.iloc[:, 48:53]\n",
    "pa_implementation.drop(columns='Reaffirm ID', inplace=True)\n",
    "# study ended results in fct of all combinations of the binary features\n",
    "pa_implementation.head()"
   ]
  },
  {
   "cell_type": "code",
   "execution_count": null,
   "metadata": {
    "collapsed": true,
    "nbpresent": {
     "id": "a9f692d0-f587-4c4a-beec-4290320cc96d"
    }
   },
   "outputs": [],
   "source": [
    "# run only once\n",
    "pa_implementation['combination'] = pa_implementation.apply(whatcombi, axis=1)"
   ]
  },
  {
   "cell_type": "code",
   "execution_count": null,
   "metadata": {
    "collapsed": true,
    "nbpresent": {
     "id": "e1d2eda1-e4e8-4847-b240-474a84c7a143"
    }
   },
   "outputs": [],
   "source": [
    "sns.countplot(x='combination', data=pa_implementation)"
   ]
  },
  {
   "cell_type": "markdown",
   "metadata": {
    "nbpresent": {
     "id": "c57f1295-e2cc-48aa-bb3f-c3c6c2928542"
    }
   },
   "source": [
    "- The most recurring implementation is the one where the agreement did not reaffirm earlier agreements, did not outline a negotiating agenda including negotiations on the incompatibility, did not provide for the deployment of a peace-keeping operation and did not provide for the establishment of a commission or committee to oversee implementation of the agreement.\n",
    "\n",
    "- Second most recurring ... did not everything but did provide for the establishment of a commission or committee to oversee implementation of the agreement.\n",
    "\n",
    "- Third most recurring, nothing but did outline a negotiating agenda including negotiations on the incompatibility\n",
    "\n",
    "- Fourth : reaffirm earlier agreements and provided the establishment of a commission or committee to oversee implementation of the agreement.\n",
    "\n",
    "\n",
    "display countplot type agreement"
   ]
  },
  {
   "cell_type": "code",
   "execution_count": null,
   "metadata": {
    "collapsed": true
   },
   "outputs": [],
   "source": [
    "sns.pairplot(pa)"
   ]
  },
  {
   "cell_type": "markdown",
   "metadata": {
    "nbpresent": {
     "id": "806e31eb-691e-4832-a82f-4d1a5c61255b"
    }
   },
   "source": [
    "## Temination variables analysis\n",
    "- **DyVi05** - Violence with the same parties restarted within 5 years\n",
    "\n",
    "    - 1) Yes, the dyad violence restarted or continued\n",
    "    - 0) No, the violence ended in this dyad\n",
    "    - -99) Not applicable, agreement signed previous year\n",
    "\n",
    "\n",
    "- **CoVi01** - Terminated the whole conflict the following year, signed an active year\n",
    "    - 2) Part of a peace process which ended the violence.\n",
    "    - 1) Yes, the conflict was terminated\n",
    "    - 0) No, the conflict continued\n",
    "    - -99) Not applicable, for example, the peace agreement was not signed in a conflict active year.\n",
    "\n",
    "\n",
    "- **noconf** - Signed in a conflict inactive year.\n",
    "\n",
    "The peace agreement was signed in an inactive conflict year i.e. in a year with less than 25 battle- related deaths recorded by the UCDP.\n",
    "    - 1) Yes \n",
    "    - 0) No\n",
    "\n",
    "- **termdur** - Number of years since last activity.\n",
    "\n",
    "The number of inactive years between end of conflict and signature of the peace agreement.\n",
    "\n",
    "\n",
    "- **Noconf11** - Still terminated as of 2011\n",
    "    No active conflict years recorded from agreement until 2011 1) Yes, no active conflict years from agreement til 2011, \n",
    "    - 0) No, conflict restarted before 2011\n",
    "    - -99) Not applicable, signed in 2011\n",
    "    \n",
    "The *termdur* will be used to relate agreement signed on active years to ones signed on inactive year. This should allow us to give more strentgh to an agreement that was signed fewer years after the end of the conflict than one signed a long time after. \n",
    "\n",
    "The *DyVi05* feature will be used as the second success evaluation variable. The *CoVi01* feature will be used to evaluate the time efficiency of the agreement."
   ]
  },
  {
   "cell_type": "code",
   "execution_count": null,
   "metadata": {
    "collapsed": true,
    "nbpresent": {
     "id": "4151e280-8f15-4e7d-a655-112fc0279601"
    }
   },
   "outputs": [],
   "source": [
    "pa_termination = pa.iloc[:, 53:58]\n",
    "# study ended results in fct of all combinations of the binary features\n",
    "pa_termination.head()"
   ]
  },
  {
   "cell_type": "code",
   "execution_count": null,
   "metadata": {
    "collapsed": true,
    "nbpresent": {
     "id": "623992c0-cd52-40af-860b-f49ebdc7273c"
    }
   },
   "outputs": [],
   "source": [
    "pa_one = pa[pa['CID'] == [x for x in pa.CID.value_counts().index]]"
   ]
  },
  {
   "cell_type": "code",
   "execution_count": null,
   "metadata": {
    "collapsed": true,
    "nbpresent": {
     "id": "372e4529-9be9-43e0-bf0d-7f8ac54797df"
    }
   },
   "outputs": [],
   "source": [
    "import copy\n",
    "idx = (pa.CID.value_counts()==1)\n",
    "pa_one = copy.deepcopy(pa)\n",
    "for i in range(len(idx)):\n",
    "    if idx.values[i] == False:\n",
    "        pa_one.drop(index=[pa_one['CID'] == idx.index[i]])"
   ]
  },
  {
   "cell_type": "code",
   "execution_count": null,
   "metadata": {
    "collapsed": true,
    "nbpresent": {
     "id": "1f182adc-ea83-4283-be6a-1bbd764a5352"
    }
   },
   "outputs": [],
   "source": [
    "cc = pa.groupby(['CID', 'ended']).count()\n",
    "plt.figure(figsize=(20,10))\n",
    "sns.countplot(x='CID', data= pa, hue='ended')"
   ]
  },
  {
   "cell_type": "markdown",
   "metadata": {},
   "source": [
    "# Check propensity scores"
   ]
  },
  {
   "cell_type": "code",
   "execution_count": null,
   "metadata": {},
   "outputs": [],
   "source": [
    "pa.iloc[:, 13:-1]"
   ]
  },
  {
   "cell_type": "code",
   "execution_count": null,
   "metadata": {},
   "outputs": [],
   "source": [
    "pa.sort_values('UN' , inplace = True)\n",
    "pa"
   ]
  },
  {
   "cell_type": "code",
   "execution_count": null,
   "metadata": {},
   "outputs": [],
   "source": [
    "import sklearn.linear_model\n",
    "import sklearn.preprocessing\n",
    "#removing the useless features\n",
    "pa_reg = pa.iloc[:, 13:-1]\n",
    "#prepocess by standardizing the dataset\n",
    "pa_reg = preprocessing.scale(pa_reg)\n",
    "#Perform a logistic regression in order to get the propensity score for each individuals\n",
    "model = sklearn.linear_model.LogisticRegression()\n",
    "model.fit(pa_reg, pa.UN)\n",
    "pred = model.predict_proba(pa_reg)"
   ]
  },
  {
   "cell_type": "code",
   "execution_count": null,
   "metadata": {},
   "outputs": [],
   "source": [
    "pa.pred.isnull().values.any()"
   ]
  },
  {
   "cell_type": "code",
   "execution_count": null,
   "metadata": {},
   "outputs": [],
   "source": [
    "sum(model.predict(pa_reg) == pa.UN)/len(pa_reg)"
   ]
  },
  {
   "cell_type": "code",
   "execution_count": null,
   "metadata": {},
   "outputs": [],
   "source": [
    "plt.figure(figsize=(15, 10))\n",
    "pa['pred'] = pred[:,1]\n",
    "ax = sns.stripplot(x='PAID', y='pred', hue='UN', data=pa, palette={0:\"#e74c3c\", 1: \"#2ecc71\"})\n",
    "ax.set(xticklabels=[], ylabel='Treatment (prediction)')\n",
    "plt.title('Propensity score per agreement')\n",
    "plt.legend(bbox_to_anchor=(1.05, 1), loc=2, borderaxespad=0., handles=ax.get_legend_handles_labels()[0], labels=['Without', 'With'], title='Treatment (ground truth)')"
   ]
  },
  {
   "cell_type": "code",
   "execution_count": null,
   "metadata": {},
   "outputs": [],
   "source": [
    "import networkx as nx\n",
    "from networkx.algorithms import bipartite\n",
    "\n",
    "#create the nodes\n",
    "G=nx.Graph()\n",
    "G.add_nodes_from(pa['PAID'][pa.UN == 0])\n",
    "G.add_nodes_from(pa['PAID'][pa.UN == 1])"
   ]
  },
  {
   "cell_type": "code",
   "execution_count": null,
   "metadata": {
    "collapsed": true
   },
   "outputs": [],
   "source": [
    "#Bipartite complete graph\n",
    "for ID_u, score_u in zip(pa.PAID[pa.UN == 0], pa.pred[pa.UN == 0]):\n",
    "    for ID_v, score_v in zip(pa.PAID[pa.UN == 1], pa.pred[pa.UN == 1]):\n",
    "        G.add_edge(ID_u, ID_v, weight=-abs(score_u-score_v))"
   ]
  },
  {
   "cell_type": "code",
   "execution_count": null,
   "metadata": {},
   "outputs": [],
   "source": [
    "#Let's check if the number of nodes and edges is right\n",
    "#Number of nodes should be 185+429 = 614 (the graph is bipartite) and number of edges should be 185*429 = 79365\n",
    "#because it is complete bipartite\n",
    "print(G.number_of_nodes())\n",
    "print(G.number_of_edges())"
   ]
  },
  {
   "cell_type": "code",
   "execution_count": null,
   "metadata": {
    "collapsed": true
   },
   "outputs": [],
   "source": [
    "from networkx.algorithms import max_weight_matching\n",
    "matching = max_weight_matching(G, maxcardinality=True)"
   ]
  },
  {
   "cell_type": "code",
   "execution_count": null,
   "metadata": {},
   "outputs": [],
   "source": []
  },
  {
   "cell_type": "code",
   "execution_count": null,
   "metadata": {},
   "outputs": [],
   "source": []
  },
  {
   "cell_type": "code",
   "execution_count": null,
   "metadata": {},
   "outputs": [],
   "source": [
    "len(list(res.items()))"
   ]
  },
  {
   "cell_type": "code",
   "execution_count": null,
   "metadata": {},
   "outputs": [],
   "source": [
    "pa_UN = pa[pa['UN'] == 1]\n",
    "pa_UN['temp'] = 1\n",
    "pa_UN = pa_UN[['PAID' , 'pred' , 'temp']]\n",
    "pa_nUN = pa[pa['UN'] == 0]\n",
    "pa_nUN['temp'] = 1\n",
    "pa_nUN = pa_nUN[['PAID' , 'pred' , 'temp']]\n",
    "\n",
    "\n",
    "#We merge the two datasets thanks to the temp column, this new merged dataset mimics the complete bipartite graph:\n",
    "result = pd.merge(pa_nUN ,pa_UN , on='temp', how='left')\n",
    "result = result[['PAID_x' , 'PAID_y' , 'pred_x' , 'pred_y']]\n",
    "result['diff'] = abs(result['pred_x'] - result['pred_y'])\n",
    "result = result.set_index(['PAID_x', 'PAID_y'])\n",
    "result['diff'].isnull().values.any()\n",
    "#result\n",
    "result.loc[list(matching.items())].dropna()"
   ]
  },
  {
   "cell_type": "code",
   "execution_count": 323,
   "metadata": {},
   "outputs": [
    {
     "data": {
      "text/plain": [
       "<matplotlib.axes._subplots.AxesSubplot at 0x1a0cc392b0>"
      ]
     },
     "execution_count": 323,
     "metadata": {},
     "output_type": "execute_result"
    },
    {
     "data": {
      "image/png": "[encoded data removed]",
      "text/plain": [
       "<matplotlib.figure.Figure at 0x1a0cc79ac8>"
      ]
     },
     "metadata": {
      "image/png": {
       "height": 589,
       "width": 1165
      }
     },
     "output_type": "display_data"
    }
   ],
   "source": [
    "paID = pa.set_index('PAID')\n",
    "matched = paID.loc[list(matching.keys())]\n",
    "plt.figure(figsize=(20,10))\n",
    "sns.countplot(x='UN', data= matched, hue='ended')"
   ]
  },
  {
   "cell_type": "markdown",
   "metadata": {
    "collapsed": true,
    "nbpresent": {
     "id": "1287b16a-539a-41d2-a7ce-2e9173952f77"
    }
   },
   "source": [
    "# Conflicts"
   ]
  },
  {
   "cell_type": "code",
   "execution_count": null,
   "metadata": {
    "collapsed": true
   },
   "outputs": [],
   "source": [
    "pa = pd.read_excel('data/ucdp-peace-agreements.xls')\n",
    "\n",
    "reader = csv.reader(open('data/translate_conf.csv', 'r'))\n",
    "d = {}\n",
    "for row in reader:\n",
    "    k, v = row\n",
    "    d[v] = k\n",
    "    \n",
    "pa.CID = pa.CID.astype(dtype=str).replace(to_replace=d )\n",
    "pa.CID = pa.CID.astype(dtype = int)"
   ]
  },
  {
   "cell_type": "code",
   "execution_count": null,
   "metadata": {
    "collapsed": true,
    "nbpresent": {
     "id": "6715c6a3-3737-48f5-9a5a-c805fd90acf5"
    }
   },
   "outputs": [],
   "source": [
    "df = pd.read_csv('data/ucdp-prio-acd-171.csv')"
   ]
  },
  {
   "cell_type": "code",
   "execution_count": null,
   "metadata": {
    "nbpresent": {
     "id": "b6db2428-2b7c-494c-a3c7-cde30c4f0d88"
    }
   },
   "outputs": [],
   "source": [
    "df.iloc[:10, :11]"
   ]
  },
  {
   "cell_type": "code",
   "execution_count": null,
   "metadata": {
    "nbpresent": {
     "id": "75a97eeb-6cd5-416b-886b-1af5c71329e5"
    }
   },
   "outputs": [],
   "source": [
    "df.iloc[:10, 11:27]"
   ]
  },
  {
   "cell_type": "code",
   "execution_count": null,
   "metadata": {
    "collapsed": true,
    "nbpresent": {
     "id": "b9ffc367-7392-4282-88f6-9a6263a91326"
    }
   },
   "outputs": [],
   "source": [
    "df.drop(['sidea2nd', 'sideb2nd' , 'terr' , 'year' , 'intensity' , 'startprec' , 'startdate2' , 'epend' , 'ependprec', 'gwnoa', 'gwnoa2nd', 'gwnob', 'gwnob2nd', 'gwnoloc', 'startprec2', 'version'], axis=1, inplace = True)"
   ]
  },
  {
   "cell_type": "code",
   "execution_count": null,
   "metadata": {
    "nbpresent": {
     "id": "80490558-f2b0-414f-b9b0-458b7d754883"
    }
   },
   "outputs": [],
   "source": [
    "print('Number of unique conflicts in this dataset : %s' %(len(df.conflictid.unique())))"
   ]
  },
  {
   "cell_type": "code",
   "execution_count": null,
   "metadata": {
    "collapsed": true,
    "nbpresent": {
     "id": "dafa55eb-66fb-4838-874e-5481ad5df48a"
    }
   },
   "outputs": [],
   "source": [
    "clean_df = df.groupby('conflictid').last()"
   ]
  },
  {
   "cell_type": "code",
   "execution_count": null,
   "metadata": {
    "nbpresent": {
     "id": "1b1212c9-187d-43cd-8cc3-b5b32f7bde15"
    }
   },
   "outputs": [],
   "source": [
    "clean_df"
   ]
  },
  {
   "cell_type": "code",
   "execution_count": null,
   "metadata": {
    "nbpresent": {
     "id": "3e2c4593-c8e6-41b4-b94b-89cd751ec103"
    }
   },
   "outputs": [],
   "source": [
    "agreements = pa.groupby('CID').last()\n",
    "agreements.index"
   ]
  },
  {
   "cell_type": "code",
   "execution_count": null,
   "metadata": {
    "collapsed": true,
    "nbpresent": {
     "id": "3fae2ee3-f5e1-4323-adbe-f5c13a91ccb4"
    }
   },
   "outputs": [],
   "source": [
    "clean_df[\"agreement\"] = [1 if ele in agreements.index else 0 for ele in clean_df.index]\n",
    "clean_df.rename({'ependdate':'enddate'} , inplace = True, axis = 1)"
   ]
  },
  {
   "cell_type": "code",
   "execution_count": null,
   "metadata": {
    "nbpresent": {
     "id": "74149268-6af8-4793-b064-06517520435d"
    }
   },
   "outputs": [],
   "source": [
    "clean_df"
   ]
  },
  {
   "cell_type": "code",
   "execution_count": null,
   "metadata": {},
   "outputs": [],
   "source": [
    "print(\"Number of non-unique 'side b' for a single conflict: %d\" %len(df['conflictid'].unique()[(df.groupby(df['conflictid'])['side b'].unique().apply(len) > 1)]))\n",
    "#df.groupby(df['conflictid'])['side b'].unique()[df.groupby(df['conflictid'])['side b'].unique().apply(len) > 1]\n",
    "print(\"Number of non-unique locations for a single conflict: %d\" %len(df['conflictid'].unique()[(df.groupby(df['conflictid'])['location'].unique().apply(len) > 1)]))\n",
    "print(\"Number of non-unique 'side a' for a single conflict: %d\" %len(df['conflictid'].unique()[(df.groupby(df['conflictid'])['sidea'].unique().apply(len) > 1)]))\n",
    "print(\"Number of non-unique startdates for a single conflict: %d\" %len(df['conflictid'].unique()[(df.groupby(df['conflictid'])['startdate'].unique().apply(len) > 1)]))\n",
    "print(\"Number of non-unique types for a single conflict: %d\" %len(df['conflictid'].unique()[(df.groupby(df['conflictid'])['type'].unique().apply(len) > 1)]))\n",
    "print(\"Number of non-unique regions for a single conflict: %d\" %len(df['conflictid'].unique()[(df.groupby(df['conflictid'])['region'].unique().apply(len) > 1)]))"
   ]
  },
  {
   "cell_type": "code",
   "execution_count": null,
   "metadata": {
    "collapsed": true,
    "nbpresent": {
     "id": "bb5b3bc3-9ed5-46bf-b4c7-1414df48ae66"
    }
   },
   "outputs": [],
   "source": [
    "def plot_distrib(s1, s2, title, xLabel, yLabel, ax=None):\n",
    "    bins = np.histogram(s1)[1]\n",
    "    sns.distplot(s1, kde=False, color=COLOR_NO_TREAT, norm_hist=True, ax=ax, bins=bins)\n",
    "    sns.distplot(s2, kde=False, color=COLOR_TREAT, norm_hist=True, ax=ax, bins=bins)\n",
    "    if ax is None:\n",
    "        plt.title(title)\n",
    "        plt.xlabel(xLabel)\n",
    "        plt.ylabel(yLabel)\n",
    "        plt.legend(['No agreement', 'Agreement'])\n",
    "    else:\n",
    "        ax.set_title(title)\n",
    "        ax.set_xlabel(xLabel)\n",
    "        ax.set_ylabel(yLabel)\n",
    "        ax.legend(['No agreement', 'Agreement'])"
   ]
  },
  {
   "cell_type": "code",
   "execution_count": null,
   "metadata": {
    "nbpresent": {
     "id": "4b2db255-2b1e-4afc-a299-b14f1ef6c56a"
    }
   },
   "outputs": [],
   "source": [
    "#f, axarr = plt.subplots(4, 1, figsize=(15, 18))\n",
    "#for index, feature in enumerate(['incomp', 'cumint', 'type', 'region']):\n",
    "    #ax = axarr[int(index/4)]#[index%3]\n",
    "plt.figure(figsize=(12,5))\n",
    "plot_distrib(s1=clean_df['incomp'][clean_df['agreement'] == 0], s2=clean_df['incomp'][clean_df['agreement'] == 1], title='incomp', xLabel = 'incomp', yLabel='Density', ax=None)"
   ]
  },
  {
   "cell_type": "code",
   "execution_count": null,
   "metadata": {
    "nbpresent": {
     "id": "1addc7c6-b6b1-4948-834f-750eed2c4644"
    }
   },
   "outputs": [],
   "source": [
    "plt.figure(figsize=(12,5))\n",
    "plot_distrib(s1=clean_df['cumint'][clean_df['agreement'] == 0], s2=clean_df['cumint'][clean_df['agreement'] == 1], title='cumint', xLabel = 'cumint', yLabel='Density', ax=None)"
   ]
  },
  {
   "cell_type": "code",
   "execution_count": null,
   "metadata": {
    "nbpresent": {
     "id": "efffb8a1-fcc6-4aa6-9a30-542044d4801e"
    }
   },
   "outputs": [],
   "source": [
    "plt.figure(figsize=(12,5))\n",
    "plot_distrib(s1=clean_df['type'][clean_df['agreement'] == 0], s2=clean_df['type'][clean_df['agreement'] == 1], title='type', xLabel = 'type', yLabel='Density', ax=None)"
   ]
  },
  {
   "cell_type": "code",
   "execution_count": null,
   "metadata": {
    "nbpresent": {
     "id": "6b8afecc-5146-4c24-a722-8fc7dac5e4f5"
    }
   },
   "outputs": [],
   "source": [
    "locationNAcount = clean_df[clean_df['agreement'] == 0].groupby('location').count()['sidea']\n",
    "locationNAcount = locationNAcount / len(clean_df[clean_df['agreement'] == 0])\n",
    "locationNAcount.sort_values(ascending = False , inplace = True)\n",
    "plt.figure(figsize=(12,5))\n",
    "locationNAcount[:20].plot('bar')"
   ]
  },
  {
   "cell_type": "code",
   "execution_count": null,
   "metadata": {
    "nbpresent": {
     "id": "be44c8fe-8f8d-4abd-849e-c29a1fd704cf"
    }
   },
   "outputs": [],
   "source": [
    "locationcount = clean_df[clean_df['agreement'] == 1].groupby('location').count()['sidea']\n",
    "locationcount = locationcount / len(clean_df[clean_df['agreement'] == 1])\n",
    "locationcount.sort_values(ascending = False , inplace = True)\n",
    "plt.figure(figsize=(12,5))\n",
    "locationcount[:20].plot('bar')"
   ]
  },
  {
   "cell_type": "code",
   "execution_count": null,
   "metadata": {},
   "outputs": [],
   "source": [
    "regionNAcount = clean_df[clean_df['agreement'] == 0].groupby('region').count()['sidea']\n",
    "regionNAcount = regionNAcount / len(clean_df[clean_df['agreement'] == 0])\n",
    "regionNAcount.sort_values(ascending = False , inplace = True)\n",
    "plt.figure(figsize=(12,5))\n",
    "regionNAcount.plot('bar')"
   ]
  },
  {
   "cell_type": "code",
   "execution_count": null,
   "metadata": {},
   "outputs": [],
   "source": [
    "regioncount = clean_df[clean_df['agreement'] == 1].groupby('region').count()['sidea']\n",
    "regioncount = regioncount / len(clean_df[clean_df['agreement'] == 1])\n",
    "regioncount.sort_values(ascending = False , inplace = True)\n",
    "plt.figure(figsize=(12,5))\n",
    "regioncount.plot('bar')"
   ]
  },
  {
   "cell_type": "code",
   "execution_count": null,
   "metadata": {},
   "outputs": [],
   "source": [
    "clean_df[clean_df['agreement'] == 1].shape"
   ]
  },
  {
   "cell_type": "code",
   "execution_count": null,
   "metadata": {},
   "outputs": [],
   "source": [
    "clean_df"
   ]
  },
  {
   "cell_type": "code",
   "execution_count": null,
   "metadata": {},
   "outputs": [],
   "source": [
    "clean_df['startdate'] = pd.to_datetime(clean_df['startdate'])\n",
    "clean_df['enddate'] = pd.to_datetime(clean_df['enddate'])\n",
    "clean_df['duration'] = (clean_df['enddate'] - clean_df['startdate']).dt.days\n",
    "clean_df['duration'].fillna(0 , inplace = True)"
   ]
  },
  {
   "cell_type": "code",
   "execution_count": null,
   "metadata": {},
   "outputs": [],
   "source": [
    "clean_df['duration'][clean_df['agreement'] == 0]"
   ]
  },
  {
   "cell_type": "code",
   "execution_count": null,
   "metadata": {},
   "outputs": [],
   "source": [
    "plt.figure(figsize=(12,5))\n",
    "plot_distrib(s1=clean_df['duration'][clean_df['agreement'] == 0], s2=clean_df['duration'][clean_df['agreement'] == 1], title='duration', xLabel = 'duration', yLabel='Density', ax=None)"
   ]
  },
  {
   "cell_type": "code",
   "execution_count": null,
   "metadata": {
    "collapsed": true
   },
   "outputs": [],
   "source": []
  }
 ],
 "metadata": {
  "kernelspec": {
   "display_name": "Python [default]",
   "language": "python",
   "name": "python3"
  },
  "language_info": {
   "codemirror_mode": {
    "name": "ipython",
    "version": 3
   },
   "file_extension": ".py",
   "mimetype": "text/x-python",
   "name": "python",
   "nbconvert_exporter": "python",
   "pygments_lexer": "ipython3",
   "version": "3.6.3"
  }
 },
 "nbformat": 4,
 "nbformat_minor": 2
}
