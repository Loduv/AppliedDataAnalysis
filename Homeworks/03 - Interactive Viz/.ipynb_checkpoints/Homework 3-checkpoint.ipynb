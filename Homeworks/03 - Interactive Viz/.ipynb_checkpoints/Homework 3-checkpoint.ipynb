{
 "cells": [
  {
   "cell_type": "code",
   "execution_count": null,
   "metadata": {},
   "outputs": [],
   "source": [
    "# imports\n",
    "import pandas as pd\n",
    "import matplotlib.pyplot as plt\n",
    "%matplotlib inline\n",
    "import numpy as np\n",
    "import seaborn as sns\n",
    "import json\n",
    "import folium\n",
    "\n",
    "# data paths\n",
    "TASK_1_DATA_PATH = './data/lfsa_urgan_1_Data.csv'"
   ]
  },
  {
   "cell_type": "markdown",
   "metadata": {},
   "source": [
    "# Task 1: European unemployment rate (Eurostat)"
   ]
  },
  {
   "cell_type": "markdown",
   "metadata": {},
   "source": [
    "### Getting the data from [Eurostat](http://ec.europa.eu/eurostat/data/database)"
   ]
  },
  {
   "cell_type": "markdown",
   "metadata": {},
   "source": [
    "Database by themes/Population and social conditions/Labour market (Labour)/Employment and Unemployment(Labour Force survey)(employ)/LFS series - detailed annual survey results (LFSA)/ Total unemployment - LFS series(lfsa_unemp)/  Unemployment rates by sex, age and nationality (%) (lfsa_urgan)\n",
    "\n",
    "\n",
    "\n",
    "Age from 15 to 74"
   ]
  },
  {
   "cell_type": "markdown",
   "metadata": {},
   "source": [
    "How we got the data:\n",
    "- we used the data explorer, then 'Download' button, 'Change Selection' to keep only what we're interested in, then download data in CSV format"
   ]
  },
  {
   "cell_type": "markdown",
   "metadata": {},
   "source": [
    "### Data importing and cleaning\n",
    "First, we import the unemployement rates from the Eurostat website in a dataframe. Since we are looking for recent statistics, we only keep the data from last year (2016). We also discard all columns except the ones we need (Country and unemployment rate). A few countries also need to be renamed, so that the countries' names are consistent between the eurostat DataFrame and the topojson file. We also drop some unwanted rows, such as the average rate for countries from the European Union."
   ]
  },
  {
   "cell_type": "code",
   "execution_count": null,
   "metadata": {},
   "outputs": [],
   "source": [
    "df = pd.read_csv(TASK_1_DATA_PATH)\n",
    "df = df[df['TIME']==2016] # only keep data from last year\n",
    "df = df[['GEO', 'Value']] # The only information we need is the country and the unemployment rate\n",
    "df.rename(columns={'GEO': 'Country', 'Value' : 'Unemployment rate' }, inplace=True)\n",
    "df.index = (range(len(df))) # re-index the dataframe\n",
    "\n",
    "# drop unwanted rows, rename some countries to match with the topojson data\n",
    "df = df.replace(to_replace='Former Yugoslav Republic of Macedonia, the', value='The former Yugoslav Republic of Macedonia')\n",
    "df = df.replace(to_replace='Germany (until 1990 former territory of the FRG)', value='Germany')\n",
    "df = df.drop(index=[0,1, 2, 3, 4, 5])\n",
    "\n",
    "df.index = (range(len(df))) # re-index the dataframe\n",
    "df.head()"
   ]
  },
  {
   "cell_type": "markdown",
   "metadata": {},
   "source": [
    "Then, we import the topojson data:"
   ]
  },
  {
   "cell_type": "code",
   "execution_count": null,
   "metadata": {},
   "outputs": [],
   "source": [
    "state_geo_path = r'topojson/europe.topojson.json'\n",
    "geo_json_data = json.load(open(state_geo_path))"
   ]
  },
  {
   "cell_type": "markdown",
   "metadata": {},
   "source": [
    "Now, let's see if we are missing some data. To do this, we extract the list of countries from the topojson file and check if some of these countries are not in our DataFrame:"
   ]
  },
  {
   "cell_type": "code",
   "execution_count": null,
   "metadata": {},
   "outputs": [],
   "source": [
    "# First, extract the list of countries from the topojson\n",
    "countries = [country['properties']['NAME'] for country in geo_json_data['objects']['europe']['geometries']]\n",
    "# From this list, print each country that does not appear in the DataFrame\n",
    "missing_countries = set(countries).difference(set(df.Country.values))\n",
    "print(\"The data is missing for %d out of %d countries:\\n\" %(len((missing_countries)), len(countries)))\n",
    "print('\\n'.join(missing_countries))"
   ]
  },
  {
   "cell_type": "markdown",
   "metadata": {},
   "source": [
    "Let's ensure that each countries from the DataFrame has been matched to a country in the topojson:"
   ]
  },
  {
   "cell_type": "code",
   "execution_count": null,
   "metadata": {},
   "outputs": [],
   "source": [
    "assert(not set(df.Country.values).difference(set(countries)))"
   ]
  },
  {
   "cell_type": "markdown",
   "metadata": {},
   "source": [
    "TODO: either find a way to fill missing countries, or explain why we did not do it"
   ]
  },
  {
   "cell_type": "markdown",
   "metadata": {},
   "source": [
    "### Build the choropleth map"
   ]
  },
  {
   "cell_type": "code",
   "execution_count": null,
   "metadata": {},
   "outputs": [],
   "source": [
    "m = folium.Map([53, 15],  tiles='cartodbpositron', zoom_start=4)\n",
    "#ignore_missing_countries = lambda x: {'fillOpacity':1,'fillColor':'YlOrRd' if x['properties']['NAME'] in df.Country.values else 'black'}\n",
    "#folium.TopoJson(open(state_geo_path), 'objects.europe', style_function =ignore_missing_countries).add_to(m)\n",
    "m.choropleth(\n",
    "    geo_data=geo_json_data,\n",
    "    name='choropleth',\n",
    "    data=df,\n",
    "    columns=['Country', 'Unemployment rate'],\n",
    "    key_on='feature.properties.NAME',\n",
    "    topojson='objects.europe',\n",
    "    fill_color='YlOrRd',\n",
    "    fill_opacity=0.6,\n",
    "    line_opacity=1,\n",
    "    legend_name='Unemployment Rate (%)'\n",
    ")\n",
    "m"
   ]
  }
 ],
 "metadata": {
  "kernelspec": {
   "display_name": "Python 3",
   "language": "python",
   "name": "python3"
  },
  "language_info": {
   "codemirror_mode": {
    "name": "ipython",
    "version": 3
   },
   "file_extension": ".py",
   "mimetype": "text/x-python",
   "name": "python",
   "nbconvert_exporter": "python",
   "pygments_lexer": "ipython3",
   "version": "3.5.2"
  }
 },
 "nbformat": 4,
 "nbformat_minor": 2
}
