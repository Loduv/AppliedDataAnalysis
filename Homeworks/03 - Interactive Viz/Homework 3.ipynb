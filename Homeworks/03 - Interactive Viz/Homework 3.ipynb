{
 "cells": [
  {
   "cell_type": "code",
   "execution_count": 1,
   "metadata": {},
   "outputs": [],
   "source": [
    "# imports\n",
    "import pandas as pd\n",
    "import matplotlib.pyplot as plt\n",
    "%matplotlib inline\n",
    "import numpy as np\n",
    "import seaborn as sns\n",
    "import json\n",
    "import folium\n",
    "\n",
    "# data paths\n",
    "TASK_1_DATA_PATH = './data/lfsa_urgan_1_Data.csv'"
   ]
  },
  {
   "cell_type": "markdown",
   "metadata": {},
   "source": [
    "# Task 1: European unemployment rate (Eurostat)"
   ]
  },
  {
   "cell_type": "markdown",
   "metadata": {},
   "source": [
    "### Getting the data from [Eurostat](http://ec.europa.eu/eurostat/data/database)"
   ]
  },
  {
   "cell_type": "markdown",
   "metadata": {},
   "source": [
    "Database by themes/Population and social conditions/Labour market (Labour)/Employment and Unemployment(Labour Force survey)(employ)/LFS series - detailed annual survey results (LFSA)/ Total unemployment - LFS series(lfsa_unemp)/  Unemployment rates by sex, age and nationality (%) (lfsa_urgan)\n",
    "\n",
    "\n",
    "\n",
    "Age from 15 to 74"
   ]
  },
  {
   "cell_type": "markdown",
   "metadata": {},
   "source": [
    "How we got the data:\n",
    "- we used the data explorer, then 'Download' button, 'Change Selection' to keep only what we're interested in, then download data in CSV format"
   ]
  },
  {
   "cell_type": "markdown",
   "metadata": {},
   "source": [
    "### Data importing and cleaning\n",
    "First, we import the unemployement rates from the Eurostat website in a dataframe. Since we are looking for recent statistics, we only keep the data from last year (2016). We also discard all columns except the ones we need (Country and unemployment rate). A few countries also need to be renamed, so that the countries' names are consistent between the eurostat DataFrame and the topojson file. We also drop some unwanted rows, such as the average rate for countries from the European Union."
   ]
  },
  {
   "cell_type": "code",
   "execution_count": 4,
   "metadata": {},
   "outputs": [
    {
     "data": {
      "text/html": [
       "<div>\n",
       "<style scoped>\n",
       "    .dataframe tbody tr th:only-of-type {\n",
       "        vertical-align: middle;\n",
       "    }\n",
       "\n",
       "    .dataframe tbody tr th {\n",
       "        vertical-align: top;\n",
       "    }\n",
       "\n",
       "    .dataframe thead th {\n",
       "        text-align: right;\n",
       "    }\n",
       "</style>\n",
       "<table border=\"1\" class=\"dataframe\">\n",
       "  <thead>\n",
       "    <tr style=\"text-align: right;\">\n",
       "      <th></th>\n",
       "      <th>Country</th>\n",
       "      <th>Unemployment rate</th>\n",
       "    </tr>\n",
       "  </thead>\n",
       "  <tbody>\n",
       "    <tr>\n",
       "      <th>0</th>\n",
       "      <td>Belgium</td>\n",
       "      <td>7.8</td>\n",
       "    </tr>\n",
       "    <tr>\n",
       "      <th>1</th>\n",
       "      <td>Bulgaria</td>\n",
       "      <td>7.6</td>\n",
       "    </tr>\n",
       "    <tr>\n",
       "      <th>2</th>\n",
       "      <td>Czech Republic</td>\n",
       "      <td>4.0</td>\n",
       "    </tr>\n",
       "    <tr>\n",
       "      <th>3</th>\n",
       "      <td>Denmark</td>\n",
       "      <td>6.2</td>\n",
       "    </tr>\n",
       "    <tr>\n",
       "      <th>4</th>\n",
       "      <td>Germany</td>\n",
       "      <td>4.1</td>\n",
       "    </tr>\n",
       "  </tbody>\n",
       "</table>\n",
       "</div>"
      ],
      "text/plain": [
       "          Country  Unemployment rate\n",
       "0         Belgium                7.8\n",
       "1        Bulgaria                7.6\n",
       "2  Czech Republic                4.0\n",
       "3         Denmark                6.2\n",
       "4         Germany                4.1"
      ]
     },
     "execution_count": 4,
     "metadata": {},
     "output_type": "execute_result"
    }
   ],
   "source": [
    "df = pd.read_csv(TASK_1_DATA_PATH)\n",
    "df = df[df['TIME']==2016] # only keep data from last year\n",
    "df = df[['GEO', 'Value']] # The only information we need is the country and the unemployment rate\n",
    "df.rename(columns={'GEO': 'Country', 'Value' : 'Unemployment rate' }, inplace=True)\n",
    "df.index = (range(len(df))) # re-index the dataframe\n",
    "\n",
    "# drop unwanted rows, rename some countries to match with the topojson data\n",
    "df = df.replace(to_replace='Former Yugoslav Republic of Macedonia, the', value='The former Yugoslav Republic of Macedonia')\n",
    "df = df.replace(to_replace='Germany (until 1990 former territory of the FRG)', value='Germany')\n",
    "df = df.drop(index=[0,1, 2, 3, 4, 5])\n",
    "\n",
    "df.index = (range(len(df))) # re-index the dataframe\n",
    "df.head()"
   ]
  },
  {
   "cell_type": "markdown",
   "metadata": {},
   "source": [
    "Then, we initialize the map with Folium:"
   ]
  },
  {
   "cell_type": "code",
   "execution_count": 6,
   "metadata": {},
   "outputs": [
    {
     "data": {
      "text/plain": [
       "<folium.features.TopoJson at 0x7f484308d0f0>"
      ]
     },
     "execution_count": 6,
     "metadata": {},
     "output_type": "execute_result"
    }
   ],
   "source": [
    "m = folium.Map([48, 25],  tiles='cartodbpositron', zoom_start=4)\n",
    "state_geo_path = r'topojson/europe.topojson.json'\n",
    "geo_json_data = json.load(open(state_geo_path))\n",
    "folium.TopoJson(open(state_geo_path), 'objects.europe').add_to(m)"
   ]
  },
  {
   "cell_type": "markdown",
   "metadata": {},
   "source": [
    "Now, let's see if we are missing some data. To do this, we extract the list of countries from the topojson file and check if some of these countries are not in our DataFrame:"
   ]
  },
  {
   "cell_type": "code",
   "execution_count": 16,
   "metadata": {},
   "outputs": [
    {
     "name": "stdout",
     "output_type": "stream",
     "text": [
      "The data is missing for 18 out of 51 countries:\n",
      "\n",
      "Andorra\n",
      "Montenegro\n",
      "Belarus\n",
      "San Marino\n",
      "Armenia\n",
      "Liechtenstein\n",
      "Bosnia and Herzegovina\n",
      "Albania\n",
      "Republic of Moldova\n",
      "Serbia\n",
      "Georgia\n",
      "Monaco\n",
      "Holy See (Vatican City)\n",
      "Ukraine\n",
      "Russia\n",
      "Faroe Islands\n",
      "Israel\n",
      "Azerbaijan\n"
     ]
    }
   ],
   "source": [
    "# First, extract the list of countries from the topojson\n",
    "countries = [country['properties']['NAME'] for country in geo_json_data['objects']['europe']['geometries']]\n",
    "# From this list, print each country that does not appear in the DataFrame\n",
    "missing_countries = set(countries).difference(set(df.Country.values))\n",
    "print(\"The data is missing for %d out of %d countries:\\n\" %(len((missing_countries)), len(countries)))\n",
    "print('\\n'.join(missing_countries))"
   ]
  },
  {
   "cell_type": "markdown",
   "metadata": {},
   "source": [
    "Let's ensure that each countries from the DataFrame has been matched to a country in the topojson:"
   ]
  },
  {
   "cell_type": "code",
   "execution_count": 20,
   "metadata": {},
   "outputs": [],
   "source": [
    "assert(not set(df.Country.values).difference(set(countries)))"
   ]
  },
  {
   "cell_type": "markdown",
   "metadata": {},
   "source": [
    "TODO: either find a way to fill missing countries, or explain why we did not do it"
   ]
  },
  {
   "cell_type": "markdown",
   "metadata": {},
   "source": []
  },
  {
   "cell_type": "code",
   "execution_count": null,
   "metadata": {},
   "outputs": [],
   "source": [
    "#m = folium.Map(location=[48, -102], zoom_start=3)\n",
    "m.choropleth(\n",
    "    geo_data=geo_json_data,\n",
    "    name='choropleth',\n",
    "    data=df,\n",
    "    columns=['Country', 'Unemployment rate'],\n",
    "    key_on='feature.properties.NAME',\n",
    "    topojson='objects.europe',\n",
    "    fill_color='YlGn',\n",
    "    fill_opacity=0.7,\n",
    "    line_opacity=0.2,\n",
    "    legend_name='Unemployment Rate (%)'\n",
    ")\n",
    "\n",
    "m"
   ]
  },
  {
   "cell_type": "code",
   "execution_count": null,
   "metadata": {},
   "outputs": [],
   "source": [
    "#m2 = folium.Map(location=[48, -102], zoom_start=3)\n",
    "m.geo_json(geo_path=state_geo_path, data_out='data1.json', data=df,\n",
    "               columns=['Country', 'Unemployment rate'],\n",
    "               key_on='feature.properties.name',\n",
    "               fill_color='YlOrRd', fill_opacity=0.7, line_opacity=0.3,\n",
    "               topojson='objects.europe')\n",
    "map_1.create_map(path='map_1.html')"
   ]
  },
  {
   "cell_type": "code",
   "execution_count": null,
   "metadata": {},
   "outputs": [],
   "source": [
    "print(geo_json_data['objects']['europe'])"
   ]
  },
  {
   "cell_type": "code",
   "execution_count": null,
   "metadata": {},
   "outputs": [],
   "source": [
    "folium.TopoJson.style_data()"
   ]
  },
  {
   "cell_type": "code",
   "execution_count": null,
   "metadata": {},
   "outputs": [],
   "source": [
    "import topojson\n",
    "topojson."
   ]
  },
  {
   "cell_type": "code",
   "execution_count": null,
   "metadata": {},
   "outputs": [],
   "source": []
  }
 ],
 "metadata": {
  "kernelspec": {
   "display_name": "Python 3",
   "language": "python",
   "name": "python3"
  },
  "language_info": {
   "codemirror_mode": {
    "name": "ipython",
    "version": 3
   },
   "file_extension": ".py",
   "mimetype": "text/x-python",
   "name": "python",
   "nbconvert_exporter": "python",
   "pygments_lexer": "ipython3",
   "version": "3.5.2"
  }
 },
 "nbformat": 4,
 "nbformat_minor": 2
}
