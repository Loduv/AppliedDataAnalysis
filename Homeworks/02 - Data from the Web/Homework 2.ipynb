{
 "cells": [
  {
   "cell_type": "code",
   "execution_count": null,
   "metadata": {},
   "outputs": [],
   "source": [
    "# Import libraries\n",
    "import requests\n",
    "from bs4 import BeautifulSoup\n",
    "import pandas as pd\n",
    "import matplotlib.pyplot as plt\n",
    "%matplotlib inline\n",
    "import numpy as np\n",
    "import seaborn as sns\n",
    "from scipy import stats\n",
    "import string\n",
    "import re\n",
    "from difflib import SequenceMatcher as SM\n",
    "\n",
    "# ignore annoying warnings\n",
    "warnings.filterwarnings('ignore')"
   ]
  },
  {
   "cell_type": "markdown",
   "metadata": {},
   "source": [
    "# Background\n",
    "In this homework we will extract interesting information from www.topuniversities.com and www.timeshighereducation.com, two platforms that maintain a global ranking of worldwide universities. This ranking is not offered as a downloadable dataset, so we had to find a way to scrape the information.\n",
    "\n",
    "To understand how the server loads the data in the browser, we used Postman with the Interceptor extension."
   ]
  },
  {
   "cell_type": "markdown",
   "metadata": {},
   "source": [
    "## Task 1: Obtain the 200 top-ranking universities in www.topuniversities.com.\n",
    "\n",
    "Required fields: name, rank, country and region, number of faculty members (international and total) and number of students (international and total)"
   ]
  },
  {
   "cell_type": "markdown",
   "metadata": {},
   "source": [
    "In order to get the data, we ran Postman (+ Interceptor), and accessed topuniversities.com from a browser. Then, we observed the different queries that were emitted by this visit, and isolated the query (url) that fetched the data. This query returns a JSON file, that we processed with BeautifulSoup in order to extract the required data and store it in a Pandas DataFrame.\n",
    "\n",
    "Some information (total and international faculty members/students are not directly available from the main page (the page that dispays the ranking). Thus, for each university, we had to get this data from its details page. The function *get_details* extracts these fields from the details page given in parameter.\n",
    "\n",
    "We could not get a JSON containing the data from the *details* pages, so we had to use BeautifulSoup to directly extract data from the html body."
   ]
  },
  {
   "cell_type": "code",
   "execution_count": null,
   "metadata": {
    "collapsed": true
   },
   "outputs": [],
   "source": [
    "# input: link to the university details page where we can find the detail numbers\n",
    "# returns an array as follows: [total_academic_fac_staff, inter_academic_fac_staff, total_students, inter_students]\n",
    "def get_details(link):\n",
    "    link = link + '#wurs'\n",
    "    r = requests.get(link)\n",
    "    page_body = r.text\n",
    "    soup = BeautifulSoup(page_body, 'html.parser')\n",
    "    \n",
    "    # will contain total_academic_fac_staff, inter_academic_fac_staff, total_students, inter_students\n",
    "    results = []\n",
    "    for name in ['total faculty', 'inter faculty', 'total student', 'total inter']:\n",
    "        try:\n",
    "            elem = np.int(soup.find('div', class_= name).find('div', class_='number').text.replace(',',''))\n",
    "        except AttributeError:\n",
    "            elem = None\n",
    "        results.append(elem)\n",
    "    return results"
   ]
  },
  {
   "cell_type": "code",
   "execution_count": null,
   "metadata": {},
   "outputs": [],
   "source": [
    "# send a request to get the content of the ranking list\n",
    "# We found the correct url where to send the request using postman and checking the different requests that were sent\n",
    "r = requests.get('https://www.topuniversities.com/sites/default/files/qs-rankings-data/357051_indicators.txt')\n",
    "json_data = r.json()\n",
    "cols = ['QSrank', 'region', 'country', 'Faculty members (total)', 'Faculty members (inter.)', 'Students (total)', 'Students (inter.)']\n",
    "df_QS = pd.DataFrame(columns=cols)\n",
    "\n",
    "\n",
    "# for each univerity in the list, get basic attributes and try to get the details\n",
    "# We had to discard one university with the above ranking check. Thus we also take the 201th university to have the actual top-200\n",
    "for i, uni in enumerate(json_data['data'][:201]):\n",
    "    soup = BeautifulSoup(uni['uni'], 'html.parser')\n",
    "    details_link = 'https://www.topuniversities.com' + soup.a['href']\n",
    "    name = soup.a.string\n",
    "    country = uni['location']\n",
    "    region = uni['region']\n",
    "    rank = np.int(uni['overall_rank'])\n",
    "    details = get_details(details_link)\n",
    "    # we saw that for some reason the uni ranked 281 appeared in the top-200.\n",
    "    # this check avoids having it in our ranking\n",
    "    if int(rank) <= 201:\n",
    "        df_QS.loc[name] = ([rank, region, country] + details)\n",
    "    print(\"Progression: \" + '{0:.1f}'.format(100*(i+1)/201.0) + \"%\", end=\"\\r\")\n",
    "#print(\"Progression: Done!\", end=\"\\r\")"
   ]
  },
  {
   "cell_type": "code",
   "execution_count": null,
   "metadata": {},
   "outputs": [],
   "source": [
    "df_QS.head(10)"
   ]
  },
  {
   "cell_type": "markdown",
   "metadata": {},
   "source": [
    "### Task 1.2: Which are the best universities in terms of:"
   ]
  },
  {
   "cell_type": "markdown",
   "metadata": {},
   "source": [
    "#### (a) Ratio between faculty members and students\n",
    "\n",
    "In order to compute this ratio, we divided the number of total students by the number of total faculty members. This way, we know how much students there is for one faculty member by universities. It is obvious that the less students per faculty member the better, therefore we sort this ratio in ascending order. "
   ]
  },
  {
   "cell_type": "code",
   "execution_count": null,
   "metadata": {},
   "outputs": [],
   "source": [
    "#Top 10 universities with the largest fac members/students ratio\n",
    "df_QS['Students/Fac members'] = (df_QS['Students (total)']/df_QS['Faculty members (total)']).astype(float)\n",
    "resultfirstratio = df_QS.sort_values('Students/Fac members' , ascending = True )\n",
    "print('The average of the ratio is ' + str(resultfirstratio['Students/Fac members'].mean()))\n",
    "resultfirstratio.head(10)"
   ]
  },
  {
   "cell_type": "code",
   "execution_count": null,
   "metadata": {},
   "outputs": [],
   "source": [
    "#Let's plot the top20 , we are simply barploting a Pandas Serie.\n",
    "resultfirstratio['Students/Fac members'].head(20).plot(kind = 'bar')\n",
    "plt.title('Top 20 universities with the best students/fac members ratio in the QS top 200')\n",
    "plt.ylabel('Number of students for 1 fac member')"
   ]
  },
  {
   "cell_type": "markdown",
   "metadata": {},
   "source": [
    "Caltech is the university with the best ratio with only 2.4 students per faculty member and the average of this ratio for the top 200 is of 9.6 students per faculty member. Note that the 10 universities with the best ratio are from the US or the UK. Furthermore, all of these but the university of Rochester are in the top 20 of the general QS ranking. This leads us to suspect that there is a correlation between this ratio and the QS ranking. We will investigate this correlations in the part 4 of the homework."
   ]
  },
  {
   "cell_type": "markdown",
   "metadata": {},
   "source": [
    "#### (b) Ratio of international students"
   ]
  },
  {
   "cell_type": "markdown",
   "metadata": {},
   "source": [
    "In this part we are asked to compute the ratio of international students. We simply divide the number of total students by the number of international students in order to have the ratio of international students by universities."
   ]
  },
  {
   "cell_type": "code",
   "execution_count": null,
   "metadata": {},
   "outputs": [],
   "source": [
    "#Top 10 universities with the largest international students ratio\n",
    "df_QS['International students ratio'] = (df_QS['Students (inter.)']/df_QS['Students (total)']).astype(float)\n",
    "resultsecondratio = df_QS.sort_values('International students ratio' , ascending = False )\n",
    "print('The average of the ratio is ' + str(resultsecondratio['International students ratio'].mean()))\n",
    "resultsecondratio.head(10)"
   ]
  },
  {
   "cell_type": "code",
   "execution_count": null,
   "metadata": {},
   "outputs": [],
   "source": [
    "resultsecondratio['International students ratio'].head(20).plot(kind = 'bar')\n",
    "plt.title('Top 20 universities with the best international students ratio in the QS top 200')\n",
    "plt.ylabel('Proportion of international students')"
   ]
  },
  {
   "cell_type": "markdown",
   "metadata": {},
   "source": [
    "The university with the greater percentage of international students is LSE (69%). Note that EPFL is second with 57%. The average across the QS top 200 is 21%. Note that there is only one university from North America in the top 10 of this ratio. Furthermore, this ratio seems to be less correlated with the golbal QS ranking than the previous one. Indeed, the 200th university (so the worst one we scraped) has the 4th best ratio. Again, we will investigate the correlations in more details later on."
   ]
  },
  {
   "cell_type": "markdown",
   "metadata": {},
   "source": [
    "### Task 1.3: Answer the previous question aggregating the data by:\n",
    "\n",
    "TODO: *Describe briefly what you observe*"
   ]
  },
  {
   "cell_type": "markdown",
   "metadata": {},
   "source": [
    "#### (c) country"
   ]
  },
  {
   "cell_type": "markdown",
   "metadata": {},
   "source": [
    "Compute the ratio between faculty members and students per country:\n",
    "\n",
    "The method for the computation of this ratio is to group the universities by country and then compute the sum of the faculty members and the sum of the students separately. Then, we divide the sum of number of students by the sum of the faculty numbers in order to have the number of students per faculty member in the country (remember that we only consider the univerties that are in the top 200 in the QS general ranking). We will present our results with the help of a barplot."
   ]
  },
  {
   "cell_type": "code",
   "execution_count": null,
   "metadata": {
    "scrolled": false
   },
   "outputs": [],
   "source": [
    "#Compute the ratio between faculty members and students per country\n",
    "Country_facmembers = df_QS.groupby('country')['Faculty members (total)'].sum()\n",
    "Country_students = df_QS.groupby('country')['Students (total)'].sum()\n",
    "plt.figure(figsize=[7,7])\n",
    "Country_students.div(Country_facmembers).sort_values(ascending=True).plot(kind = 'bar')\n",
    "plt.title('Ratio between faculty members and students per country')\n",
    "plt.ylabel('Number of students for 1 fac member')"
   ]
  },
  {
   "cell_type": "markdown",
   "metadata": {},
   "source": [
    "Russia is the country with the best ratio with less that 5 students per faculty member. The worst one is Italy with more than 20 students per faculty member. The countries with the best univerties (US, UK, Switzerland) are ranked quite high."
   ]
  },
  {
   "cell_type": "markdown",
   "metadata": {},
   "source": [
    "Compute the ratio of international students per country:\n",
    "\n",
    "The computation method is the same as above. We group by country and then sum the total number of students and the number of international students. Then we devide these sums in order to have the ratio of international students per country"
   ]
  },
  {
   "cell_type": "code",
   "execution_count": null,
   "metadata": {
    "scrolled": false
   },
   "outputs": [],
   "source": [
    "#Compute the ratio of international students per country\n",
    "Country_intstudents = df_QS.groupby('country')['Students (inter.)'].sum()\n",
    "plt.figure(figsize=[7,7])\n",
    "Country_intstudents.div(Country_students).sort_values(ascending=False).plot(kind = 'bar')\n",
    "plt.title('Proportion of international students per country')\n",
    "plt.ylabel('Proportion of international students')"
   ]
  },
  {
   "cell_type": "markdown",
   "metadata": {},
   "source": [
    "Australia is at the top with a ratio of 0.35. We notice that the least 'attractive' countries are emerging countries whereas the most 'attractive' ones are known for being 'rich' countries."
   ]
  },
  {
   "cell_type": "markdown",
   "metadata": {},
   "source": [
    "#### (d) region"
   ]
  },
  {
   "cell_type": "markdown",
   "metadata": {},
   "source": [
    "Compute the ratio between faculty members and students per region:\n",
    "\n",
    "The method is the same as the one with the countries but we group by regions instead."
   ]
  },
  {
   "cell_type": "code",
   "execution_count": null,
   "metadata": {},
   "outputs": [],
   "source": [
    "#Compute the ratio between faculty members and students per region\n",
    "Region_facmembers = df_QS.groupby('region')['Faculty members (total)'].sum()\n",
    "Region_students = df_QS.groupby('region')['Students (total)'].sum()\n",
    "Region_students.div(Region_facmembers).sort_values(ascending=True).plot(kind = 'bar')\n",
    "plt.title('Ratio between number of faculty members and student per region')\n",
    "plt.ylabel('Number of students for 1 fac member')"
   ]
  },
  {
   "cell_type": "markdown",
   "metadata": {},
   "source": [
    "Asia is the region that has the best students/faculty member ratio. Oceania has the worst ratio with almost two times more students per faculty member compared to Asia."
   ]
  },
  {
   "cell_type": "markdown",
   "metadata": {},
   "source": [
    "Compute the ratio of international students per region:\n",
    "\n",
    "The method is the same as the one with the countries but we group by regions instead."
   ]
  },
  {
   "cell_type": "code",
   "execution_count": null,
   "metadata": {},
   "outputs": [],
   "source": [
    "#Compute the ratio of international students per region\n",
    "Region_intstudents = df_QS.groupby('region')['Students (inter.)'].sum()\n",
    "Region_intstudents.div(Region_students).sort_values(ascending=False).plot(kind = 'bar')\n",
    "plt.title('Proportion of international students per region')\n",
    "plt.ylabel('Proportion of international students')"
   ]
  },
  {
   "cell_type": "markdown",
   "metadata": {},
   "source": [
    "Oceania is the region with the greatest part of international students. When looking at the group by country results, we notice that this is mainly thanks to Australia and New-Zealand. Europe comes second. Latin America has the worst ratio. These results are consistents with the ones we had for the analysis by countries."
   ]
  },
  {
   "cell_type": "markdown",
   "metadata": {
    "collapsed": true
   },
   "source": [
    "## Task 2: Obtain the 200 top-ranking universities in www.timeshighereducation.com (ranking 2018). \n",
    "### Repeat the analysis of the previous point and discuss briefly what you observed.\n"
   ]
  },
  {
   "cell_type": "markdown",
   "metadata": {},
   "source": [
    "In order to scrape the data from the *Times Higher Education* ranking, we proceeded the same way as for the *QS* ranking.\n",
    "\n",
    "The number of international students and staff members is not given on this website, though we get the ratios compared with the number of students. Hence, we will create the 'Students (inter.)' and 'Faculty members (total)' by calculations."
   ]
  },
  {
   "cell_type": "code",
   "execution_count": null,
   "metadata": {
    "collapsed": true
   },
   "outputs": [],
   "source": [
    "# Execute the request and get the data in JSON format\n",
    "r = requests.get('https://www.timeshighereducation.com/sites/default/files/the_data_rankings/world_university_rankings_2018_limit0_369a9045a203e176392b9fb8f8c1cb2a.json')\n",
    "json_data = r.json()"
   ]
  },
  {
   "cell_type": "code",
   "execution_count": null,
   "metadata": {},
   "outputs": [],
   "source": [
    "cols = ['THrank',  'country', 'Students (total)', 'Students (inter.)','International students ratio', 'Students/Fac members' ,'Faculty members (total)',]\n",
    "df_TH = pd.DataFrame(columns=cols)\n",
    "\n",
    "# for each univerity in the list, get basic attributes and try to get the details\n",
    "for i, uni in enumerate(json_data['data'][:200]):\n",
    "    name = uni['name']\n",
    "    country = uni['location']\n",
    "    THrank = np.int((uni['rank'].replace('=','')))\n",
    "    students_tot = np.int(uni['stats_number_students'].replace(',',''))\n",
    "    student_int_ratio = np.float(uni['stats_pc_intl_students'][:-1])/100\n",
    "    student_staff_ratio = np.float(uni['stats_student_staff_ratio'])\n",
    "    staff_number = np.int(students_tot/student_staff_ratio)\n",
    "    int_student = np.int(students_tot*student_int_ratio)\n",
    "    \n",
    "    df_TH.loc[name] = ([THrank, country, students_tot, int_student, student_int_ratio, student_staff_ratio,staff_number])\n",
    "    print(\"Progression: \" + '{0:.1f}'.format(100*(i+1)/200.0) + \"%\", end=\"\\r\")"
   ]
  },
  {
   "cell_type": "markdown",
   "metadata": {},
   "source": [
    "Let's take a look at the data we just scraped:"
   ]
  },
  {
   "cell_type": "code",
   "execution_count": null,
   "metadata": {},
   "outputs": [],
   "source": [
    "df_TH.head()"
   ]
  },
  {
   "cell_type": "markdown",
   "metadata": {},
   "source": [
    "The region not being present in the dataframe, we use the link between country and region from the QS dataframe to create the new column."
   ]
  },
  {
   "cell_type": "code",
   "execution_count": null,
   "metadata": {},
   "outputs": [],
   "source": [
    "dico = dict(zip(df_QS['country'].values, df_QS['region'].values))\n",
    "df_TH['region'] = df_TH['country'].replace(dico)\n",
    "df_TH['region'].unique()"
   ]
  },
  {
   "cell_type": "markdown",
   "metadata": {},
   "source": [
    "Luxembourg and Russian federation are not in the dictionnary, hence it created some mistakes in the new region column. We will set the Luxembourg and Russian federation to Europe"
   ]
  },
  {
   "cell_type": "code",
   "execution_count": null,
   "metadata": {},
   "outputs": [],
   "source": [
    "df_TH.loc[df_TH['region']=='Luxembourg', 'region'] = 'Europe'\n",
    "df_TH.loc[df_TH['region']=='Russian Federation', 'region'] = 'Europe'\n",
    "#Let's rearrange the columns a bit\n",
    "df_TH = df_TH[['THrank' , 'region' , 'country' , 'Faculty members (total)' , 'Students (total)' , 'Students (inter.)', 'Students/Fac members' , 'International students ratio' ]]\n",
    "df_TH.head(10)"
   ]
  },
  {
   "cell_type": "markdown",
   "metadata": {},
   "source": [
    "### Task 2.2: Which are the best universities in terms of:"
   ]
  },
  {
   "cell_type": "markdown",
   "metadata": {},
   "source": [
    "#### (a) Ratio between faculty members and students\n",
    "\n",
    "Here we don't have to calculate the ratios as they are already in our dataframe, we will simply reorder our dataframe using the dedicated columns."
   ]
  },
  {
   "cell_type": "code",
   "execution_count": null,
   "metadata": {
    "scrolled": false
   },
   "outputs": [],
   "source": [
    "#Top 10 universities with the largest fac members/students ratio\n",
    "resultfirstratio = df_TH.sort_values('Students/Fac members' , ascending = True )\n",
    "resultfirstratio.head(10)"
   ]
  },
  {
   "cell_type": "code",
   "execution_count": null,
   "metadata": {},
   "outputs": [],
   "source": [
    "resultfirstratio['Students/Fac members'].head(20).plot(kind = 'bar')\n",
    "plt.title('Top 20 universities with the best students/fac members ratio in the TH top 200')\n",
    "plt.ylabel('Number of students for 1 fac member')"
   ]
  },
  {
   "cell_type": "markdown",
   "metadata": {},
   "source": [
    "Our first observation here is that the TH ranking has much higher ratios than the QS ranking. Here the first university has a ratio of 3.3 students per staff member while the first one had 2.36 students per staff members. John Hopkins and Yale having a ratio of 4.3 in TH were leveled at 3.6 and 2.5 respectively in the QS ranking. While only british or american universities were in the top 10 in the QS ranking, here a few european universities appear in the ranking. \n",
    "\n",
    "#### (b) Ratio of international students"
   ]
  },
  {
   "cell_type": "code",
   "execution_count": null,
   "metadata": {
    "scrolled": false
   },
   "outputs": [],
   "source": [
    "#Top 10 universities with the largest international students ratio\n",
    "resultsecondratio = df_TH.sort_values('International students ratio' , ascending = False )\n",
    "resultsecondratio.head(10)"
   ]
  },
  {
   "cell_type": "code",
   "execution_count": null,
   "metadata": {},
   "outputs": [],
   "source": [
    "resultsecondratio['International students ratio'].head(20).plot(kind = 'bar')\n",
    "plt.title('Top 20 universities with the best international students ratio in the TH top 200')\n",
    "plt.ylabel('Proportion of international students')"
   ]
  },
  {
   "cell_type": "markdown",
   "metadata": {},
   "source": [
    "This ranking is very consistent with the QS ranking. Only the apparition of the university of Luxembourg and the switch of ranks between UCL, Carnegie Melon and Saint Andrews differentiate the rankings.\n",
    "### Task 2.3: Answer the previous question aggregating the data by:"
   ]
  },
  {
   "cell_type": "markdown",
   "metadata": {},
   "source": [
    "#### (c) country\n",
    "As explained above, here we group the universities by their country and sum their number of students and facultx members before applying the ratio."
   ]
  },
  {
   "cell_type": "code",
   "execution_count": null,
   "metadata": {},
   "outputs": [],
   "source": [
    "#Compute the ratio between faculty members and students per country\n",
    "Country_facmembers = df_TH.groupby('country')['Faculty members (total)'].sum()\n",
    "Country_students = df_TH.groupby('country')['Students (total)'].sum()\n",
    "plt.figure(figsize=[10,10])\n",
    "Country_students.div(Country_facmembers).sort_values(ascending=True).plot(kind = 'bar')\n",
    "plt.title('Ratio between number of faculty members and students')\n",
    "plt.ylabel('Number of students for 1 fac member')"
   ]
  },
  {
   "cell_type": "markdown",
   "metadata": {},
   "source": [
    "The main difference that we have discovered here is the ranking of Italy (4th in TH, 20th in QS). Denmark and Russian federation are switched compared to the QS ranking but we see a bit of consistency here between the two rankings."
   ]
  },
  {
   "cell_type": "code",
   "execution_count": null,
   "metadata": {},
   "outputs": [],
   "source": [
    "#Compute the ratio of international students per country\n",
    "Country_intstudents = df_TH.groupby('country')['Students (inter.)'].sum()\n",
    "plt.figure(figsize=[10,10])\n",
    "Country_intstudents.div(Country_students).sort_values(ascending=False).plot(kind = 'bar')\n",
    "plt.title('Ratio of international students per country')\n",
    "plt.ylabel('Proportion of international students')"
   ]
  },
  {
   "cell_type": "markdown",
   "metadata": {},
   "source": [
    "The apparition of Luxembourg in this ranking comes from the fact that this country is represented by only one university and it is not present in the QS ranking. Overall again, we see consistency between the rankings."
   ]
  },
  {
   "cell_type": "markdown",
   "metadata": {},
   "source": [
    "#### (d) region"
   ]
  },
  {
   "cell_type": "code",
   "execution_count": null,
   "metadata": {},
   "outputs": [],
   "source": [
    "#Compute the ratio between faculty members and students per region\n",
    "Region_facmembers = df_TH.groupby('region')['Faculty members (total)'].sum()\n",
    "Region_students = df_TH.groupby('region')['Students (total)'].sum()\n",
    "Region_students.div(Region_facmembers).sort_values(ascending=True).plot(kind = 'bar')\n",
    "plt.title('Ratio between number of faculty members and student per region')\n",
    "plt.ylabel('Number of students for 1 fac member')"
   ]
  },
  {
   "cell_type": "code",
   "execution_count": null,
   "metadata": {},
   "outputs": [],
   "source": [
    "#Compute the ratio of international students per region\n",
    "Region_intstudents = df_TH.groupby('region')['Students (inter.)'].sum()\n",
    "Region_intstudents.div(Region_students).sort_values(ascending=False).plot(kind = 'bar')\n",
    "plt.title('Proportion of international students per region')\n",
    "plt.ylabel('Proportion of international students')"
   ]
  },
  {
   "cell_type": "markdown",
   "metadata": {},
   "source": [
    "## Observations : \n",
    "The rankings by region are consistent with the QS ranking. As we summ up the values by regions, the differences by universities gets meaned by our calculations and guide QS and TH to have approximately the same results by region. "
   ]
  },
  {
   "cell_type": "markdown",
   "metadata": {
    "collapsed": true
   },
   "source": [
    "## Task 3: Merging the two DataFrames\n",
    "Merge the two DataFrames created in questions 1 and 2 using university names. Match universities' names as well as you can, and explain your strategy. Keep track of the original position in both rankings."
   ]
  },
  {
   "cell_type": "markdown",
   "metadata": {},
   "source": [
    "### Overview\n",
    "The challenge here is to match the universities from the QS and TH rankings, because for a single university, its name can differ from one ranking to the other. However, in most cases the name is the same in both rankings, or is only slightly different. Here are some examples of differences that occur the most:\n",
    "- the acronym of the university appears at the end of the name in parenthesis \n",
    "    - *example: Ecole Polytechnique Federale de Lausanne **(EPFL)***\n",
    "- Capital letters, accents\n",
    "    - *example:* ecole/école/Ecole/École\n",
    "- Some non-alphanumeric characters are not the same\n",
    "    - *example:* ' vs \\` vs ’ *or* - vs —\n",
    "- Some translation issues:\n",
    "    - *example:* University/Universiteit/Université/..., of/zu/de/...\n",
    "- Some additional linking words:\n",
    "    - *example: * **The** university **of** [...] / University [...]"
   ]
  },
  {
   "cell_type": "markdown",
   "metadata": {},
   "source": [
    "### String matching algorithm\n",
    "\n",
    "Here, we detail step by step the process that we followed to match the university names of the two rankings:\n",
    "1. Store all names of QS (resp. TH) into a Python set named *a* (resp. *b*)\n",
    "2. Create a Python dictionary *(matchings)*, and for each element of *a* create a key in *matchings* with value *None*\n",
    "3. Iterate a first time over each element in b, and\n",
    "    1. Check if it matches perfectly some element in a (basic string comparision)\n",
    "    2. Check if the cleaned version of *elem_B* matches a cleaned elem from *a* *(See function clean_string below)*\n",
    "    1. It there's a match, remove *elem_B* from *b* and set *matchings*[*elem_A*]* -> elem_B*\n",
    "    2. At this point, 141 elements are already matched\n",
    "4. For the remaining elements that our algorithm may havec missed, we used the *SequenceMatcher* class from Python's *difflib* module, which implements an improved version of Ratcliff and Obershelp's *Gestalt pattern matching* algorithm, which basically looks for the longest common contiguous sequence of characters with no junk in it between two strings. For more information, see *John W. Ratcliff and David Metzener, Pattern Matching: The Gestalt Approach, Dr. Dobb's Journal, page 46, July 1988*. For more information about *difflib*, see *https://docs.python.org/2/library/difflib.html*\n",
    "\n",
    "    Basically we use the method *ratio()*, which computes a coefficient of similarity between two strings using the method described above. Among the remaining elements to match, we keep the pairs with the highest coefficients. The coefficient varies between 0 and 1. We set a threshold that defines the minimum coefficient needed to consider that it's a match. We tweaked the ratio to get the best possible results.\n",
    "    \n",
    "In total, 153 universities out of 200 are matched. The remaining 47 are universities that appear in one ranking, but not the other."
   ]
  },
  {
   "cell_type": "code",
   "execution_count": null,
   "metadata": {
    "collapsed": true
   },
   "outputs": [],
   "source": [
    "# elem: The string that we want to clean\n",
    "# pattern: a regexp pattern of the type of words we wish to clean/tokenize from the names\n",
    "# returns a version of the string cleaned of all the words/characters that\n",
    "# do not give any information about the uni and can make it differ from its matching\n",
    "def clean_string(elem, pattern):\n",
    "    # replace - by space\n",
    "    clean_elem = re.sub('[–-]', ' ', elem)\n",
    "    # remove all that is inside parenthesis (if it's at least 5 characters)\n",
    "    clean_elem = re.sub(r'\\(.{0,5}?\\)', '', clean_elem)\n",
    "    # to lowercase\n",
    "    clean_elem = clean_elem.lower()\n",
    "    # remove accents\n",
    "    clean_elem = re.sub('[\\é\\è]', 'e', clean_elem)\n",
    "    clean_elem = re.sub('[ä]', 'a', clean_elem)\n",
    "    clean_elem = re.sub('[ü]', 'u', clean_elem)\n",
    "    clean_elem = re.sub('[ö]', 'o', clean_elem)\n",
    "    # remove all punctuation\n",
    "    clean_elem = \"\".join([c for c in clean_elem if c in string.ascii_letters or c in string.whitespace])\n",
    "    # remove all linking words that are not useful to disinguish universities and can cause issues\n",
    "    words = [x for x in clean_elem.split() if re.match(pattern, x) is None]\n",
    "    clean_elem = ' '.join(words)\n",
    "    # if a space remains at the end of the string, remove it. Also remove double spaces\n",
    "    clean_elem = re.sub('[ ]{2,}', ' ', clean_elem)\n",
    "    if clean_elem[-1] == ' ':\n",
    "        clean_elem = clean_elem[:-1]\n",
    "    return clean_elem"
   ]
  },
  {
   "cell_type": "markdown",
   "metadata": {},
   "source": [
    "First, check perfect matchings and \"cleaned matchings\":"
   ]
  },
  {
   "cell_type": "code",
   "execution_count": null,
   "metadata": {},
   "outputs": [],
   "source": [
    "# creating the two lists and a dictionary for the matchings\n",
    "a = df_QS.index.values.tolist()\n",
    "b = df_TH.index.values.tolist()\n",
    "matchings = dict()\n",
    "for elem in a:\n",
    "    matchings[elem] = None\n",
    "\n",
    "# The words that we want to get rid of when we clean the name\n",
    "pattern = r'[uU]niversit(y|at|aet|eit)|(\\bof\\b)|\\b([tT]he)\\b|(\\bzu\\b)|(\\bat\\b)'\n",
    "\n",
    "# first match and extract all perfect matchings and names that match after cleaning them\n",
    "for elemA in a:\n",
    "    for elemB in b.copy():\n",
    "        if elemA == elemB or clean_string(elemA, pattern) == clean_string(elemB, pattern):\n",
    "            matchings[elemA] = elemB\n",
    "            b.remove(elemB)\n",
    "print(str(200 - len(b)) + ' elements out of 200 are matched')"
   ]
  },
  {
   "cell_type": "markdown",
   "metadata": {},
   "source": [
    "Then, perform fuzzy string comparison for the remaining elements:"
   ]
  },
  {
   "cell_type": "code",
   "execution_count": null,
   "metadata": {},
   "outputs": [],
   "source": [
    "# fuzzy matching\n",
    "threshold = 0.67\n",
    "# loop over TH university names\n",
    "for elemB in b.copy():\n",
    "    max_ratio = 0\n",
    "    best_match = None\n",
    "    # check for the name in the QS directory that matches the best elemB if it exists\n",
    "    for elemA in a:\n",
    "        match_ratio = SM(None, clean_string(elemA, pattern), clean_string(elemB, pattern)).ratio()\n",
    "        if match_ratio > threshold and match_ratio > max_ratio and matchings[elemA] is None:\n",
    "            max_ratio = match_ratio\n",
    "            best_match = elemA\n",
    "    # if a match has been found save the index in matchings dictionary\n",
    "    if best_match is not None:\n",
    "        matchings[best_match] = elemB\n",
    "        b.remove(elemB)\n",
    "        #print(best_match + \" -> \" + elemB + \" \" + str(int(max_ratio*100)))\n",
    "\n",
    "print(str(200 - len(b)) + ' elements out of 200 are matched')\n",
    "        "
   ]
  },
  {
   "cell_type": "code",
   "execution_count": null,
   "metadata": {
    "collapsed": true
   },
   "outputs": [],
   "source": [
    "# add remaining universities to the dictionary\n",
    "for elemB in b:\n",
    "    matchings[elemB] = None"
   ]
  },
  {
   "cell_type": "markdown",
   "metadata": {},
   "source": [
    "Print all the matchings to get an insight of the correctness of the algorithm. As we can see, it seems to work pretty well:"
   ]
  },
  {
   "cell_type": "code",
   "execution_count": null,
   "metadata": {},
   "outputs": [],
   "source": [
    "for key in matchings:\n",
    "    print(key)\n",
    "    print(str(matchings[key]))\n",
    "    print()"
   ]
  },
  {
   "cell_type": "markdown",
   "metadata": {},
   "source": [
    "At this point, we have a dictionnary *name A* -> *name B*. We will now use it to merge the dataframes"
   ]
  },
  {
   "cell_type": "code",
   "execution_count": null,
   "metadata": {},
   "outputs": [],
   "source": [
    "# merge the two dataframes with the matchings dictionnary\n",
    "matchings_no_none = {k:v for k,v in matchings.items() if v is not None}\n",
    "merged_df = df_QS.copy()\n",
    "merged_df.index = merged_df.index.to_series().replace(matchings_no_none)\n",
    "merged_df = pd.merge(merged_df, df_TH, left_index=True, right_index=True, how='outer', suffixes=['_QS', '_TH'])\n",
    "merged_df"
   ]
  },
  {
   "cell_type": "markdown",
   "metadata": {
    "collapsed": true
   },
   "source": [
    "We can observe that there is 247 rows, which is equal to 200 + 47 (the number of \"unmatched\" universities). This simple security check on the DF ensures that all universities have been merged and there is no duplicate."
   ]
  },
  {
   "cell_type": "markdown",
   "metadata": {},
   "source": [
    "## Task 4: Exploratory analysis\n",
    "There is a big correlation between the two rankings.\n",
    "QS seems to focus more on Fac members/Students ratio, TH is more balanced between the two ratios.\n",
    "The total number of students has no importantce in the QS ranking of the universities. However, the ratio of students over faculty members is highly negative. The number of faculty members and international students is highly correlated with the ranking.\n",
    "\n",
    "The correlation plot shows that the QS ranking holds more importance in the way that it is more correlated with its features than the TH ranking. Hence this could lead us to believe that the TH ranking is a bit more subjective or that some relevant feature are not present in our dataset."
   ]
  },
  {
   "cell_type": "code",
   "execution_count": null,
   "metadata": {},
   "outputs": [],
   "source": [
    "slc = ['QSrank', 'Faculty members (total)_QS' , 'Faculty members (inter.)' , 'Students (total)_QS' , 'Students (inter.)_QS' , 'International students ratio_QS', 'THrank' , 'Faculty members (total)_TH' , 'Students (total)_TH', 'Students (inter.)_TH' ]\n",
    "merged_df[slc] = merged_df[slc].astype(float)\n",
    "corr = merged_df.corr()\n",
    "corr"
   ]
  },
  {
   "cell_type": "code",
   "execution_count": null,
   "metadata": {},
   "outputs": [],
   "source": [
    "sns.heatmap(corr)"
   ]
  },
  {
   "cell_type": "markdown",
   "metadata": {},
   "source": [
    "## Task 5: Take both rankings into account"
   ]
  },
  {
   "cell_type": "code",
   "execution_count": null,
   "metadata": {},
   "outputs": [],
   "source": [
    "merged_df = merged_df.dropna(axis = 0)\n",
    "#Harmonic mean between the two rankings and sort by new rank\n",
    "merged_df['Our score'] = stats.hmean([merged_df['QSrank'], merged_df['THrank']])\n",
    "merged_df = merged_df.sort_values('Our score' , ascending = True)\n",
    "merged_df['New rank'] = (merged_df['Our score'].rank(method = 'dense')).astype(int)\n",
    "#Plotting the top 20 universities with our new ranking\n",
    "merged_df[['New rank','Our score' , 'QSrank' , 'THrank']].head(20)"
   ]
  },
  {
   "cell_type": "markdown",
   "metadata": {
    "collapsed": true
   },
   "source": [
    "We have decided to use the harmonic to create our own ranking as it favores consistency between both rankings. This ranking sets the MIT as first. Again most universities in the top 20 are from United States."
   ]
  },
  {
   "cell_type": "code",
   "execution_count": null,
   "metadata": {
    "collapsed": true
   },
   "outputs": [],
   "source": []
  },
  {
   "cell_type": "code",
   "execution_count": null,
   "metadata": {
    "collapsed": true
   },
   "outputs": [],
   "source": []
  }
 ],
 "metadata": {
  "kernelspec": {
   "display_name": "Python 3",
   "language": "python",
   "name": "python3"
  },
  "language_info": {
   "codemirror_mode": {
    "name": "ipython",
    "version": 3
   },
   "file_extension": ".py",
   "mimetype": "text/x-python",
   "name": "python",
   "nbconvert_exporter": "python",
   "pygments_lexer": "ipython3",
   "version": "3.6.1"
  }
 },
 "nbformat": 4,
 "nbformat_minor": 2
}
