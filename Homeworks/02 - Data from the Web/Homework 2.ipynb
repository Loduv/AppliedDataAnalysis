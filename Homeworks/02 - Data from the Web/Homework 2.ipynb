{
 "cells": [
  {
   "cell_type": "code",
   "execution_count": 54,
   "metadata": {
    "collapsed": true
   },
   "outputs": [],
   "source": [
    "# Import libraries\n",
    "import requests\n",
    "from bs4 import BeautifulSoup\n",
    "import pandas as pd"
   ]
  },
  {
   "cell_type": "code",
   "execution_count": 60,
   "metadata": {},
   "outputs": [
    {
     "name": "stdout",
     "output_type": "stream",
     "text": [
      "<class 'dict'>\n",
      "columns\n",
      "data\n"
     ]
    },
    {
     "data": {
      "text/html": [
       "<div>\n",
       "<style>\n",
       "    .dataframe thead tr:only-child th {\n",
       "        text-align: right;\n",
       "    }\n",
       "\n",
       "    .dataframe thead th {\n",
       "        text-align: left;\n",
       "    }\n",
       "\n",
       "    .dataframe tbody tr th {\n",
       "        vertical-align: top;\n",
       "    }\n",
       "</style>\n",
       "<table border=\"1\" class=\"dataframe\">\n",
       "  <thead>\n",
       "    <tr style=\"text-align: right;\">\n",
       "      <th></th>\n",
       "      <th>QSrank</th>\n",
       "      <th>region</th>\n",
       "      <th>country</th>\n",
       "    </tr>\n",
       "  </thead>\n",
       "  <tbody>\n",
       "    <tr>\n",
       "      <th>Technische Universität Dresden</th>\n",
       "      <td>281</td>\n",
       "      <td>Europe</td>\n",
       "      <td>Germany</td>\n",
       "    </tr>\n",
       "    <tr>\n",
       "      <th>Texas A&amp;M University</th>\n",
       "      <td>195</td>\n",
       "      <td>North America</td>\n",
       "      <td>United States</td>\n",
       "    </tr>\n",
       "    <tr>\n",
       "      <th>Universitat Autònoma de Barcelona</th>\n",
       "      <td>195</td>\n",
       "      <td>Europe</td>\n",
       "      <td>Spain</td>\n",
       "    </tr>\n",
       "    <tr>\n",
       "      <th>Instituto Tecnológico y de Estudios Superiores de Monterrey</th>\n",
       "      <td>199</td>\n",
       "      <td>Latin America</td>\n",
       "      <td>Mexico</td>\n",
       "    </tr>\n",
       "    <tr>\n",
       "      <th>Maastricht University</th>\n",
       "      <td>200</td>\n",
       "      <td>Europe</td>\n",
       "      <td>Netherlands</td>\n",
       "    </tr>\n",
       "  </tbody>\n",
       "</table>\n",
       "</div>"
      ],
      "text/plain": [
       "                                                   QSrank         region  \\\n",
       "Technische Universität Dresden                        281         Europe   \n",
       "Texas A&M University                                  195  North America   \n",
       "Universitat Autònoma de Barcelona                     195         Europe   \n",
       "Instituto Tecnológico y de Estudios Superiores ...    199  Latin America   \n",
       "Maastricht University                                 200         Europe   \n",
       "\n",
       "                                                          country  \n",
       "Technische Universität Dresden                            Germany  \n",
       "Texas A&M University                                United States  \n",
       "Universitat Autònoma de Barcelona                           Spain  \n",
       "Instituto Tecnológico y de Estudios Superiores ...         Mexico  \n",
       "Maastricht University                                 Netherlands  "
      ]
     },
     "execution_count": 60,
     "metadata": {},
     "output_type": "execute_result"
    }
   ],
   "source": [
    "r = requests.get('https://www.topuniversities.com/sites/default/files/qs-rankings-data/357051_indicators.txt')\n",
    "page_body = r.text\n",
    "page_body[:800]\n",
    "json_data = r.json()\n",
    "print(type(json_data))\n",
    "i = 0\n",
    "for key, value in json_data.items():\n",
    "    i = i +1\n",
    "    #print(str(key) + \" -> \" + str(value))\n",
    "    print(str(key))\n",
    "    if i > 15:\n",
    "        break\n",
    "#print(json_data['columns'])\n",
    "\n",
    "cols = ['QSrank', 'region', 'country']\n",
    "\n",
    "df = pd.DataFrame(columns=cols)\n",
    "\n",
    "\n",
    "\n",
    "for uni in json_data['data'][:200]:\n",
    "    soup = BeautifulSoup(uni['uni'], 'html.parser')\n",
    "    name = soup.a.string\n",
    "    country = uni['location']\n",
    "    region = uni['region']\n",
    "    rank = uni['overall_rank']\n",
    "    df.loc[name] = [rank, region, country]\n",
    "\n",
    "\n",
    "\n",
    "\n",
    "'''test_uni = json_data['data'][0]\n",
    "soup = BeautifulSoup(test_uni['uni'], 'html.parser')\n",
    "name = soup.a.string\n",
    "country = test_uni['location']\n",
    "region = test_uni['region']\n",
    "rank = test_uni['overall_rank']'''\n",
    "#print(name + \"\\n\" + rank + \"\\n\" + country + \"\\n\" + region)\n",
    "#print(test_uni)\n",
    "#print(type(json_data['data'][0]))\n",
    "#print(len(json_data['data']))\n",
    "#print(json_data['data'][21])\n",
    "\n",
    "df.tail()"
   ]
  },
  {
   "cell_type": "code",
   "execution_count": 4,
   "metadata": {
    "collapsed": true
   },
   "outputs": [],
   "source": [
    "page_body = r.text\n",
    "soup = BeautifulSoup(page_body,'html.parser')"
   ]
  },
  {
   "cell_type": "code",
   "execution_count": 9,
   "metadata": {},
   "outputs": [],
   "source": [
    "rows = soup.find_all('tr', class_='odd')\n",
    "for row in rows:\n",
    "    print('yo')\n",
    "    print(row.text)\n",
    "    uni_name = p.find('a').text\n",
    "    print(uni_name)"
   ]
  },
  {
   "cell_type": "code",
   "execution_count": null,
   "metadata": {
    "collapsed": true
   },
   "outputs": [],
   "source": []
  },
  {
   "cell_type": "code",
   "execution_count": null,
   "metadata": {
    "collapsed": true
   },
   "outputs": [],
   "source": []
  },
  {
   "cell_type": "code",
   "execution_count": null,
   "metadata": {
    "collapsed": true
   },
   "outputs": [],
   "source": []
  },
  {
   "cell_type": "code",
   "execution_count": null,
   "metadata": {
    "collapsed": true
   },
   "outputs": [],
   "source": []
  },
  {
   "cell_type": "code",
   "execution_count": null,
   "metadata": {
    "collapsed": true
   },
   "outputs": [],
   "source": []
  }
 ],
 "metadata": {
  "kernelspec": {
   "display_name": "Python 3",
   "language": "python",
   "name": "python3"
  },
  "language_info": {
   "codemirror_mode": {
    "name": "ipython",
    "version": 3
   },
   "file_extension": ".py",
   "mimetype": "text/x-python",
   "name": "python",
   "nbconvert_exporter": "python",
   "pygments_lexer": "ipython3",
   "version": "3.6.1"
  }
 },
 "nbformat": 4,
 "nbformat_minor": 2
}
