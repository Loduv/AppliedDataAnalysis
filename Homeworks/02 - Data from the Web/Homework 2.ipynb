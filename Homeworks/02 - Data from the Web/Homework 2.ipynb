{
 "cells": [
  {
   "cell_type": "code",
   "execution_count": 4,
   "metadata": {
    "collapsed": true
   },
   "outputs": [],
   "source": [
    "# Import libraries\n",
    "import requests\n",
    "from bs4 import BeautifulSoup\n",
    "import pandas as pd"
   ]
  },
  {
   "cell_type": "code",
   "execution_count": 5,
   "metadata": {
    "collapsed": true
   },
   "outputs": [],
   "source": [
    "# input: link to the university details page where we can find the detail numbers\n",
    "# returns an array as follows: [total_academic_fac_staff, inter_academic_fac_staff, total_students, inter_students]\n",
    "def get_details(link):\n",
    "    link = link + '#wurs'\n",
    "    r = requests.get(link)\n",
    "    page_body = r.text\n",
    "\n",
    "    soup = BeautifulSoup(page_body, 'html.parser')\n",
    "    \n",
    "    # will contain total_academic_fac_staff, inter_academic_fac_staff, total_students, inter_students\n",
    "    results = []\n",
    "    for name in ['total faculty', 'inter faculty', 'total student', 'total inter']:\n",
    "        try:\n",
    "            elem = int(soup.find('div', class_= name).find('div', class_='number').text.replace(',',''))\n",
    "        except AttributeError:\n",
    "            elem = None\n",
    "        results.append(elem)\n",
    "    return results"
   ]
  },
  {
   "cell_type": "code",
   "execution_count": null,
   "metadata": {},
   "outputs": [
    {
     "name": "stdout",
     "output_type": "stream",
     "text": [
      "Progression: 23.0%\r"
     ]
    }
   ],
   "source": [
    "# send a request to get the content of the ranking list\n",
    "# We found the correct url where to send the request using postman and checking the different requests that were sent\n",
    "r = requests.get('https://www.topuniversities.com/sites/default/files/qs-rankings-data/357051_indicators.txt')\n",
    "page_body = r.text\n",
    "json_data = r.json()\n",
    "cols = ['QSrank', 'region', 'country', 'Faculty members (total)', 'Faculty members (inter.)', 'Students (total)', 'Students (inter.)']\n",
    "df = pd.DataFrame(columns=cols)\n",
    "\n",
    "\n",
    "# for each univerity in the list, get basic attributes and try to get the details\n",
    "for i, uni in enumerate(json_data['data'][:200]):\n",
    "    soup = BeautifulSoup(uni['uni'], 'html.parser')\n",
    "    details_link = 'https://www.topuniversities.com' + soup.a['href']\n",
    "    name = soup.a.string\n",
    "    country = uni['location']\n",
    "    region = uni['region']\n",
    "    rank = uni['overall_rank'] \n",
    "    details = get_details(details_link)\n",
    "    # we saw that for some reason the uni ranked 281 appeared in the top-200.\n",
    "    # this check avoids having it in our ranking\n",
    "    if int(rank) <= 200:\n",
    "        df.loc[name] = ([rank, region, country] + details)\n",
    "    print(\"Progression: \" + '{0:.1f}'.format(100*(i+1)/200.0) + \"%\", end=\"\\r\")\n",
    "#print(\"Progression: Done!\", end=\"\\r\")"
   ]
  },
  {
   "cell_type": "code",
   "execution_count": 171,
   "metadata": {},
   "outputs": [
    {
     "data": {
      "text/html": [
       "<div>\n",
       "<style>\n",
       "    .dataframe thead tr:only-child th {\n",
       "        text-align: right;\n",
       "    }\n",
       "\n",
       "    .dataframe thead th {\n",
       "        text-align: left;\n",
       "    }\n",
       "\n",
       "    .dataframe tbody tr th {\n",
       "        vertical-align: top;\n",
       "    }\n",
       "</style>\n",
       "<table border=\"1\" class=\"dataframe\">\n",
       "  <thead>\n",
       "    <tr style=\"text-align: right;\">\n",
       "      <th></th>\n",
       "      <th>QSrank</th>\n",
       "      <th>region</th>\n",
       "      <th>country</th>\n",
       "      <th>Faculty members (total)</th>\n",
       "      <th>Faculty members (inter.)</th>\n",
       "      <th>Students (total)</th>\n",
       "      <th>Students (inter.)</th>\n",
       "    </tr>\n",
       "  </thead>\n",
       "  <tbody>\n",
       "    <tr>\n",
       "      <th>Massachusetts Institute of Technology (MIT)</th>\n",
       "      <td>1</td>\n",
       "      <td>North America</td>\n",
       "      <td>United States</td>\n",
       "      <td>2982</td>\n",
       "      <td>1679</td>\n",
       "      <td>11067</td>\n",
       "      <td>3717</td>\n",
       "    </tr>\n",
       "    <tr>\n",
       "      <th>Stanford University</th>\n",
       "      <td>2</td>\n",
       "      <td>North America</td>\n",
       "      <td>United States</td>\n",
       "      <td>4285</td>\n",
       "      <td>2042</td>\n",
       "      <td>15878</td>\n",
       "      <td>3611</td>\n",
       "    </tr>\n",
       "    <tr>\n",
       "      <th>Harvard University</th>\n",
       "      <td>3</td>\n",
       "      <td>North America</td>\n",
       "      <td>United States</td>\n",
       "      <td>4350</td>\n",
       "      <td>1311</td>\n",
       "      <td>22429</td>\n",
       "      <td>5266</td>\n",
       "    </tr>\n",
       "    <tr>\n",
       "      <th>California Institute of Technology (Caltech)</th>\n",
       "      <td>4</td>\n",
       "      <td>North America</td>\n",
       "      <td>United States</td>\n",
       "      <td>953</td>\n",
       "      <td>350</td>\n",
       "      <td>2255</td>\n",
       "      <td>647</td>\n",
       "    </tr>\n",
       "    <tr>\n",
       "      <th>University of Cambridge</th>\n",
       "      <td>5</td>\n",
       "      <td>Europe</td>\n",
       "      <td>United Kingdom</td>\n",
       "      <td>5490</td>\n",
       "      <td>2278</td>\n",
       "      <td>18770</td>\n",
       "      <td>6699</td>\n",
       "    </tr>\n",
       "  </tbody>\n",
       "</table>\n",
       "</div>"
      ],
      "text/plain": [
       "                                             QSrank         region  \\\n",
       "Massachusetts Institute of Technology (MIT)       1  North America   \n",
       "Stanford University                               2  North America   \n",
       "Harvard University                                3  North America   \n",
       "California Institute of Technology (Caltech)      4  North America   \n",
       "University of Cambridge                           5         Europe   \n",
       "\n",
       "                                                     country  \\\n",
       "Massachusetts Institute of Technology (MIT)    United States   \n",
       "Stanford University                            United States   \n",
       "Harvard University                             United States   \n",
       "California Institute of Technology (Caltech)   United States   \n",
       "University of Cambridge                       United Kingdom   \n",
       "\n",
       "                                             Faculty members (total)  \\\n",
       "Massachusetts Institute of Technology (MIT)                     2982   \n",
       "Stanford University                                             4285   \n",
       "Harvard University                                              4350   \n",
       "California Institute of Technology (Caltech)                     953   \n",
       "University of Cambridge                                         5490   \n",
       "\n",
       "                                             Faculty members (inter.)  \\\n",
       "Massachusetts Institute of Technology (MIT)                      1679   \n",
       "Stanford University                                              2042   \n",
       "Harvard University                                               1311   \n",
       "California Institute of Technology (Caltech)                      350   \n",
       "University of Cambridge                                          2278   \n",
       "\n",
       "                                             Students (total)  \\\n",
       "Massachusetts Institute of Technology (MIT)             11067   \n",
       "Stanford University                                     15878   \n",
       "Harvard University                                      22429   \n",
       "California Institute of Technology (Caltech)             2255   \n",
       "University of Cambridge                                 18770   \n",
       "\n",
       "                                             Students (inter.)  \n",
       "Massachusetts Institute of Technology (MIT)               3717  \n",
       "Stanford University                                       3611  \n",
       "Harvard University                                        5266  \n",
       "California Institute of Technology (Caltech)               647  \n",
       "University of Cambridge                                   6699  "
      ]
     },
     "execution_count": 171,
     "metadata": {},
     "output_type": "execute_result"
    }
   ],
   "source": [
    "#df[pd.isnull(df['Faculty members (inter.)'])]\n",
    "df.head(5)"
   ]
  },
  {
   "cell_type": "code",
   "execution_count": null,
   "metadata": {
    "collapsed": true
   },
   "outputs": [],
   "source": []
  },
  {
   "cell_type": "code",
   "execution_count": null,
   "metadata": {
    "collapsed": true
   },
   "outputs": [],
   "source": []
  },
  {
   "cell_type": "code",
   "execution_count": null,
   "metadata": {
    "collapsed": true
   },
   "outputs": [],
   "source": []
  },
  {
   "cell_type": "code",
   "execution_count": null,
   "metadata": {
    "collapsed": true
   },
   "outputs": [],
   "source": []
  },
  {
   "cell_type": "code",
   "execution_count": null,
   "metadata": {
    "collapsed": true
   },
   "outputs": [],
   "source": []
  }
 ],
 "metadata": {
  "kernelspec": {
   "display_name": "Python 3",
   "language": "python",
   "name": "python3"
  },
  "language_info": {
   "codemirror_mode": {
    "name": "ipython",
    "version": 3
   },
   "file_extension": ".py",
   "mimetype": "text/x-python",
   "name": "python",
   "nbconvert_exporter": "python",
   "pygments_lexer": "ipython3",
   "version": "3.6.1"
  }
 },
 "nbformat": 4,
 "nbformat_minor": 2
}
