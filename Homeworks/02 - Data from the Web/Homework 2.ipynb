{
 "cells": [
  {
   "cell_type": "code",
   "execution_count": null,
   "metadata": {
    "collapsed": true
   },
   "outputs": [],
   "source": [
    "# Import libraries\n",
    "import requests\n",
    "from bs4 import BeautifulSoup\n",
    "import pandas as pd"
   ]
  },
  {
   "cell_type": "code",
   "execution_count": null,
   "metadata": {
    "collapsed": true
   },
   "outputs": [],
   "source": [
    "# input: link to the university details page where we can find the detail numbers\n",
    "# returns an array as follows: [total_academic_fac_staff, inter_academic_fac_staff, total_students, inter_students]\n",
    "def get_details(link):\n",
    "    link = link + '#wurs'\n",
    "    r = requests.get(link)\n",
    "    page_body = r.text\n",
    "\n",
    "    soup = BeautifulSoup(page_body, 'html.parser')\n",
    "    \n",
    "    # will contain total_academic_fac_staff, inter_academic_fac_staff, total_students, inter_students\n",
    "    results = []\n",
    "    for name in ['total faculty', 'inter faculty', 'total student', 'total inter']:\n",
    "        try:\n",
    "            elem = int(soup.find('div', class_= name).find('div', class_='number').text.replace(',',''))\n",
    "        except AttributeError:\n",
    "            elem = None\n",
    "        results.append(elem)\n",
    "    return results"
   ]
  },
  {
   "cell_type": "code",
   "execution_count": null,
   "metadata": {},
   "outputs": [],
   "source": [
    "# send a request to get the content of the ranking list\n",
    "# We found the correct url where to send the request using postman and checking the different requests that were sent\n",
    "r = requests.get('https://www.topuniversities.com/sites/default/files/qs-rankings-data/357051_indicators.txt')\n",
    "page_body = r.text\n",
    "json_data = r.json()\n",
    "cols = ['QSrank', 'region', 'country', 'Faculty members (total)', 'Faculty members (inter.)', 'Students (total)', 'Students (inter.)']\n",
    "df = pd.DataFrame(columns=cols)\n",
    "\n",
    "\n",
    "# for each univerity in the list, get basic attributes and try to get the details\n",
    "for i, uni in enumerate(json_data['data'][:200]):\n",
    "    soup = BeautifulSoup(uni['uni'], 'html.parser')\n",
    "    details_link = 'https://www.topuniversities.com' + soup.a['href']\n",
    "    name = soup.a.string\n",
    "    country = uni['location']\n",
    "    region = uni['region']\n",
    "    rank = uni['overall_rank'] \n",
    "    details = get_details(details_link)\n",
    "    # we saw that for some reason the uni ranked 281 appeared in the top-200.\n",
    "    # this check avoids having it in our ranking\n",
    "    if int(rank) <= 200:\n",
    "        df.loc[name] = ([rank, region, country] + details)\n",
    "    print(\"Progression: \" + '{0:.1f}'.format(100*(i+1)/200.0) + \"%\", end=\"\\r\")"
   ]
  },
  {
   "cell_type": "code",
   "execution_count": null,
   "metadata": {},
   "outputs": [],
   "source": [
    "#df[pd.isnull(df['Faculty members (inter.)'])]\n",
    "df.head(5)"
   ]
  },
  {
   "cell_type": "code",
   "execution_count": null,
   "metadata": {
    "collapsed": true
   },
   "outputs": [],
   "source": []
  },
  {
   "cell_type": "code",
   "execution_count": null,
   "metadata": {
    "collapsed": true
   },
   "outputs": [],
   "source": []
  },
  {
   "cell_type": "code",
   "execution_count": null,
   "metadata": {
    "collapsed": true
   },
   "outputs": [],
   "source": []
  },
  {
   "cell_type": "code",
   "execution_count": null,
   "metadata": {
    "collapsed": true
   },
   "outputs": [],
   "source": []
  },
  {
   "cell_type": "code",
   "execution_count": null,
   "metadata": {
    "collapsed": true
   },
   "outputs": [],
   "source": []
  }
 ],
 "metadata": {
  "kernelspec": {
   "display_name": "Python 3",
   "language": "python",
   "name": "python3"
  },
  "language_info": {
   "codemirror_mode": {
    "name": "ipython",
    "version": 3
   },
   "file_extension": ".py",
   "mimetype": "text/x-python",
   "name": "python",
   "nbconvert_exporter": "python",
   "pygments_lexer": "ipython3",
   "version": "3.6.1"
  }
 },
 "nbformat": 4,
 "nbformat_minor": 2
}
