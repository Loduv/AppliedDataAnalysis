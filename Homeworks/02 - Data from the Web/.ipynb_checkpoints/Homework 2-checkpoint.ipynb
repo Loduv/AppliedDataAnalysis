{
 "cells": [
  {
   "cell_type": "code",
   "execution_count": 54,
   "metadata": {
    "collapsed": true
   },
   "outputs": [],
   "source": [
    "# Import libraries\n",
    "import requests\n",
    "from bs4 import BeautifulSoup\n",
    "import pandas as pd"
   ]
  },
  {
   "cell_type": "code",
   "execution_count": 73,
   "metadata": {},
   "outputs": [
    {
     "name": "stdout",
     "output_type": "stream",
     "text": [
      "<class 'dict'>\n",
      "columns\n",
      "data\n",
      "<div class=\"td-wrap\"><div class=\"td-wrap-in\"><a href=\"/universities/stanford-university\">Stanford University</a></div></div>\n"
     ]
    }
   ],
   "source": [
    "r = requests.get('https://www.topuniversities.com/sites/default/files/qs-rankings-data/357051_indicators.txt')\n",
    "page_body = r.text\n",
    "json_data = r.json()\n",
    "print(type(json_data))\n",
    "i = 0\n",
    "for key, value in json_data.items():\n",
    "    i = i +1\n",
    "    #print(str(key) + \" -> \" + str(value))\n",
    "    print(str(key))\n",
    "    if i > 15:\n",
    "        break\n",
    "#print(json_data['columns'])\n",
    "\n",
    "cols = ['QSrank', 'region', 'country']\n",
    "\n",
    "df = pd.DataFrame(columns=cols)\n",
    "\n",
    "\n",
    "\n",
    "for uni in json_data['data'][:200]:\n",
    "    soup = BeautifulSoup(uni['uni'], 'html.parser')\n",
    "    name = soup.a.string\n",
    "    country = uni['location']\n",
    "    region = uni['region']\n",
    "    rank = uni['overall_rank']\n",
    "    # we saw that for some reason the uni ranked 281 appeared in the top-200.\n",
    "    # this check avoids having it in our ranking\n",
    "    if int(rank) <= 200:\n",
    "        df.loc[name] = [rank, region, country]\n",
    "\n",
    "\n",
    "\n",
    "\n",
    "'''test_uni = json_data['data'][0]\n",
    "soup = BeautifulSoup(test_uni['uni'], 'html.parser')\n",
    "name = soup.a.string\n",
    "country = test_uni['location']\n",
    "region = test_uni['region']\n",
    "rank = test_uni['overall_rank']'''\n",
    "#print(name + \"\\n\" + rank + \"\\n\" + country + \"\\n\" + region)\n",
    "#print(test_uni)\n",
    "#print(type(json_data['data'][0]))\n",
    "#print(len(json_data['data']))\n",
    "#print(json_data['data'][21])\n",
    "\n",
    "df.head()\n",
    "#print(df.shape)\n",
    "print(json_data['data'][1]['uni'])"
   ]
  },
  {
   "cell_type": "code",
   "execution_count": 84,
   "metadata": {},
   "outputs": [
    {
     "name": "stdout",
     "output_type": "stream",
     "text": [
      "\n",
      "1,679 \n"
     ]
    }
   ],
   "source": [
    "test = json_data['data'][0]\n",
    "\n",
    "link_test = 'https://www.topuniversities.com/universities/massachusetts-institute-technology-mit#wurs'\n",
    "\n",
    "r = requests.get(link_test)\n",
    "page_body = r.text\n",
    "\n",
    "soup = BeautifulSoup(page_body, 'html.parser')\n",
    "\n",
    "total_academic_fac_staff = soup.find('div', class_='total faculty').find('div', class_='number').text\n",
    "inter_academic_fac_staff = soup.find('div', class_='inter faculty').find('div', class_='number').text\n",
    "\n",
    "print(soup.find('div', class_='inter faculty').find('div', class_='number').text)\n",
    "\n",
    "\n",
    "\n",
    "\n",
    "#true_link = '/universities/massachusetts-institute-technology-mit'\n"
   ]
  },
  {
   "cell_type": "code",
   "execution_count": null,
   "metadata": {
    "collapsed": true
   },
   "outputs": [],
   "source": []
  },
  {
   "cell_type": "code",
   "execution_count": null,
   "metadata": {
    "collapsed": true
   },
   "outputs": [],
   "source": []
  },
  {
   "cell_type": "code",
   "execution_count": null,
   "metadata": {
    "collapsed": true
   },
   "outputs": [],
   "source": []
  },
  {
   "cell_type": "code",
   "execution_count": null,
   "metadata": {
    "collapsed": true
   },
   "outputs": [],
   "source": []
  },
  {
   "cell_type": "code",
   "execution_count": null,
   "metadata": {
    "collapsed": true
   },
   "outputs": [],
   "source": []
  }
 ],
 "metadata": {
  "kernelspec": {
   "display_name": "Python 3",
   "language": "python",
   "name": "python3"
  },
  "language_info": {
   "codemirror_mode": {
    "name": "ipython",
    "version": 3
   },
   "file_extension": ".py",
   "mimetype": "text/x-python",
   "name": "python",
   "nbconvert_exporter": "python",
   "pygments_lexer": "ipython3",
   "version": "3.6.1"
  }
 },
 "nbformat": 4,
 "nbformat_minor": 2
}
