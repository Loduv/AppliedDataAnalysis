{
 "cells": [
  {
   "cell_type": "code",
   "execution_count": null,
   "metadata": {
    "collapsed": true
   },
   "outputs": [],
   "source": [
    "# Import libraries\n",
    "import requests\n",
    "from bs4 import BeautifulSoup\n",
    "import pandas as pd\n",
    "import matplotlib.pyplot as plt\n",
    "%matplotlib inline\n",
    "import numpy as np"
   ]
  },
  {
   "cell_type": "code",
   "execution_count": null,
   "metadata": {
    "collapsed": true
   },
   "outputs": [],
   "source": [
    "# input: link to the university details page where we can find the detail numbers\n",
    "# returns an array as follows: [total_academic_fac_staff, inter_academic_fac_staff, total_students, inter_students]\n",
    "def get_details(link):\n",
    "    link = link + '#wurs'\n",
    "    r = requests.get(link)\n",
    "    page_body = r.text\n",
    "\n",
    "    soup = BeautifulSoup(page_body, 'html.parser')\n",
    "    \n",
    "    # will contain total_academic_fac_staff, inter_academic_fac_staff, total_students, inter_students\n",
    "    results = []\n",
    "    for name in ['total faculty', 'inter faculty', 'total student', 'total inter']:\n",
    "        try:\n",
    "            elem = np.float(soup.find('div', class_= name).find('div', class_='number').text.replace(',',''))\n",
    "        except AttributeError:\n",
    "            elem = None\n",
    "        results.append(elem)\n",
    "    return results"
   ]
  },
  {
   "cell_type": "code",
   "execution_count": null,
   "metadata": {},
   "outputs": [],
   "source": [
    "# send a request to get the content of the ranking list\n",
    "# We found the correct url where to send the request using postman and checking the different requests that were sent\n",
    "r = requests.get('https://www.topuniversities.com/sites/default/files/qs-rankings-data/357051_indicators.txt')\n",
    "page_body = r.text\n",
    "json_data = r.json()\n",
    "cols = ['QSrank', 'region', 'country', 'Faculty members (total)', 'Faculty members (inter.)', 'Students (total)', 'Students (inter.)']\n",
    "df_QS = pd.DataFrame(columns=cols)\n",
    "\n",
    "\n",
    "# for each univerity in the list, get basic attributes and try to get the details\n",
    "for i, uni in enumerate(json_data['data'][:200]):\n",
    "    soup = BeautifulSoup(uni['uni'], 'html.parser')\n",
    "    details_link = 'https://www.topuniversities.com' + soup.a['href']\n",
    "    name = soup.a.string\n",
    "    country = uni['location']\n",
    "    region = uni['region']\n",
    "    rank = np.float(uni['overall_rank'])\n",
    "    details = get_details(details_link)\n",
    "    # we saw that for some reason the uni ranked 281 appeared in the top-200.\n",
    "    # this check avoids having it in our ranking\n",
    "    if int(rank) <= 200:\n",
    "        df_QS.loc[name] = ([rank, region, country] + details)\n",
    "    print(\"Progression: \" + '{0:.1f}'.format(100*(i+1)/200.0) + \"%\", end=\"\\r\")\n",
    "#print(\"Progression: Done!\", end=\"\\r\")"
   ]
  },
  {
   "cell_type": "code",
   "execution_count": null,
   "metadata": {},
   "outputs": [],
   "source": [
    "#df[pd.isnull(df['Faculty members (inter.)'])]\n",
    "df_QS.head(5)"
   ]
  },
  {
   "cell_type": "code",
   "execution_count": null,
   "metadata": {},
   "outputs": [],
   "source": [
    "#Top 10 universities with the largest fac members/students ratio\n",
    "df_QS['Fac members/Students ratio'] = df_QS['Faculty members (total)']/df_QS['Students (total)']\n",
    "resultfirstratio = df_QS.sort_values('Fac members/Students ratio' , ascending = False )\n",
    "resultfirstratio.head(10)"
   ]
  },
  {
   "cell_type": "code",
   "execution_count": null,
   "metadata": {},
   "outputs": [],
   "source": [
    "#Top 10 universities with the largest international students ratio\n",
    "df_QS['International students ratio'] = df._QS['Students (inter.)']/df_QS['Students (total)']\n",
    "resultsecondratio = df_QS.sort_values('International students ratio' , ascending = False )\n",
    "resultsecondratio.head(10)"
   ]
  },
  {
   "cell_type": "code",
   "execution_count": null,
   "metadata": {
    "scrolled": true
   },
   "outputs": [],
   "source": [
    "#Compute the ratio between faculty members and students per country\n",
    "Country_facmembers = df_QS.groupby('country')['Faculty members (total)'].sum()\n",
    "Country_students = df_QS.groupby('country')['Students (total)'].sum()\n",
    "Country_facmembers.div(Country_students).sort_values(ascending=False).plot(kind = 'bar')"
   ]
  },
  {
   "cell_type": "code",
   "execution_count": null,
   "metadata": {
    "scrolled": true
   },
   "outputs": [],
   "source": [
    "#Compute the ratio of international students per country\n",
    "Country_intstudents = df_QS.groupby('country')['Students (inter.)'].sum()\n",
    "Country_intstudents.div(Country_students).sort_values(ascending=False).plot(kind = 'bar')"
   ]
  },
  {
   "cell_type": "code",
   "execution_count": null,
   "metadata": {},
   "outputs": [],
   "source": [
    "#Compute the ratio between faculty members and students per region\n",
    "Region_facmembers = df_QS.groupby('region')['Faculty members (total)'].sum()\n",
    "Region_students = df_QS.groupby('region')['Students (total)'].sum()\n",
    "Region_facmembers.div(Region_students).sort_values(ascending=False).plot(kind = 'bar')"
   ]
  },
  {
   "cell_type": "code",
   "execution_count": null,
   "metadata": {},
   "outputs": [],
   "source": [
    "#Compute the ratio of international students per region\n",
    "Region_intstudents = df_QS.groupby('region')['Students (inter.)'].sum()\n",
    "Region_intstudents.div(Region_students).sort_values(ascending=False).plot(kind = 'bar')"
   ]
  },
  {
   "cell_type": "markdown",
   "metadata": {
    "collapsed": true
   },
   "source": [
    "### Times Higher education\n"
   ]
  },
  {
   "cell_type": "code",
   "execution_count": null,
   "metadata": {
    "collapsed": true
   },
   "outputs": [],
   "source": [
    "# Make the request\n",
    "r = requests.get('https://www.timeshighereducation.com/sites/default/files/the_data_rankings/world_university_rankings_2018_limit0_369a9045a203e176392b9fb8f8c1cb2a.json')\n",
    "page_body = r.text\n",
    "page_body[:800]\n",
    "\n",
    "soup = BeautifulSoup(page_body, 'html.parser')"
   ]
  },
  {
   "cell_type": "code",
   "execution_count": null,
   "metadata": {},
   "outputs": [],
   "source": [
    "json_data = r.json()"
   ]
  },
  {
   "cell_type": "code",
   "execution_count": null,
   "metadata": {},
   "outputs": [],
   "source": [
    "cols = ['THrank',  'country', 'Students (total)', 'Students (inter.)','International students ratio', 'Fac members/Students ratio','Faculty members (total)',]\n",
    "df_TH = pd.DataFrame(columns=cols)\n",
    "\n",
    "\n",
    "# for each univerity in the list, get basic attributes and try to get the details\n",
    "for i, uni in enumerate(json_data['data'][:200]):\n",
    "    name = uni['name']\n",
    "    country = uni['location']\n",
    "    THrank = np.float16(uni['rank'].replace('=',''))\n",
    "    students_tot = np.float16(uni['stats_number_students'].replace(',',''))\n",
    "    student_int_ratio = np.float16(uni['stats_pc_intl_students'][:-1])/100\n",
    "    student_staff_ratio = np.float(uni['stats_student_staff_ratio'])\n",
    "    staff_number = np.float16(students_tot/student_staff_ratio)\n",
    "    int_student = np.float16(students_tot*student_int_ratio)\n",
    "    \n",
    "    df_TH.loc[name] = ([THrank, country, students_tot, int_student, student_int_ratio, student_staff_ratio,staff_number])\n",
    "    print(\"Progression: \" + '{0:.1f}'.format(100*(i+1)/200.0) + \"%\", end=\"\\r\")"
   ]
  },
  {
   "cell_type": "code",
   "execution_count": null,
   "metadata": {},
   "outputs": [],
   "source": [
    "#Top 10 universities with the largest fac members/students ratio\n",
    "resultfirstratio = df_TH.sort_values('Fac members/Students ratio' , ascending = True )\n",
    "resultfirstratio.head(10)"
   ]
  },
  {
   "cell_type": "code",
   "execution_count": null,
   "metadata": {},
   "outputs": [],
   "source": [
    "#Top 10 universities with the largest international students ratio\n",
    "df_TH['International students ratio'] = df_TH['Students (inter.)']/df_TH['Students (total)']\n",
    "resultsecondratio = df_TH.sort_values('International students ratio' , ascending = False )\n",
    "resultsecondratio.head(10)"
   ]
  },
  {
   "cell_type": "code",
   "execution_count": null,
   "metadata": {},
   "outputs": [],
   "source": [
    "#Compute the ratio between faculty members and students per country\n",
    "Country_facmembers = df_TH.groupby('country')['Faculty members (total)'].sum()\n",
    "Country_students = df_TH.groupby('country')['Students (total)'].sum()\n",
    "plt.figure(figsize=[10,10])\n",
    "Country_facmembers.div(Country_students).sort_values(ascending=False).plot(kind = 'bar')\n",
    "plt.title('Ratio between number of faculty members and students')"
   ]
  },
  {
   "cell_type": "code",
   "execution_count": null,
   "metadata": {},
   "outputs": [],
   "source": [
    "#Compute the ratio of international students per country\n",
    "Country_intstudents = df_TH.groupby('country')['Students (inter.)'].sum()\n",
    "Country_intstudents.div(Country_students).sort_values(ascending=False).plot(kind = 'bar')\n",
    "plt.title('Ratio of international students per country')"
   ]
  },
  {
   "cell_type": "code",
   "execution_count": null,
   "metadata": {},
   "outputs": [],
   "source": [
    "for a in df_TH.THrank:\n",
    "    if a[0] == '=':\n",
    "        df_TH.THrank[a] = a[1:]\n"
   ]
  },
  {
   "cell_type": "code",
   "execution_count": null,
   "metadata": {},
   "outputs": [],
   "source": [
    "df_TH.head()"
   ]
  },
  {
   "cell_type": "markdown",
   "metadata": {
    "collapsed": true
   },
   "source": [
    "### Merging the two datasets\n"
   ]
  },
  {
   "cell_type": "code",
   "execution_count": null,
   "metadata": {},
   "outputs": [],
   "source": [
    "a = df_QS.index.values.tolist()\n",
    "b = df_TH.index.values.tolist()\n",
    "ab = set(a).intersection(b)"
   ]
  },
  {
   "cell_type": "code",
   "execution_count": null,
   "metadata": {},
   "outputs": [],
   "source": [
    "df_merged = df_QS.merge(df_TH,how='outer')"
   ]
  },
  {
   "cell_type": "code",
   "execution_count": null,
   "metadata": {},
   "outputs": [],
   "source": []
  },
  {
   "cell_type": "code",
   "execution_count": null,
   "metadata": {},
   "outputs": [],
   "source": []
  },
  {
   "cell_type": "code",
   "execution_count": null,
   "metadata": {},
   "outputs": [],
   "source": [
    "df_TH.describe()"
   ]
  },
  {
   "cell_type": "code",
   "execution_count": null,
   "metadata": {},
   "outputs": [],
   "source": [
    "df_TH.corr()"
   ]
  },
  {
   "cell_type": "markdown",
   "metadata": {},
   "source": [
    "The most important correlation with the TH rank is the number of international students. The ratio between FAC members and student is positive because the ratio is smaller for a smaller number of students per teacher. "
   ]
  },
  {
   "cell_type": "code",
   "execution_count": null,
   "metadata": {},
   "outputs": [],
   "source": [
    "df_QS.corr()"
   ]
  },
  {
   "cell_type": "markdown",
   "metadata": {},
   "source": [
    "The total number of students has no importantce in the QS ranking of the universities. However, the ratio of students over faculty members is highly negative. The number of faculty members and international students is ghly correlated with the ranking"
   ]
  }
 ],
 "metadata": {
  "kernelspec": {
   "display_name": "Python 3",
   "language": "python",
   "name": "python3"
  },
  "language_info": {
   "codemirror_mode": {
    "name": "ipython",
    "version": 3
   },
   "file_extension": ".py",
   "mimetype": "text/x-python",
   "name": "python",
   "nbconvert_exporter": "python",
   "pygments_lexer": "ipython3",
   "version": "3.6.1"
  }
 },
 "nbformat": 4,
 "nbformat_minor": 2
}
